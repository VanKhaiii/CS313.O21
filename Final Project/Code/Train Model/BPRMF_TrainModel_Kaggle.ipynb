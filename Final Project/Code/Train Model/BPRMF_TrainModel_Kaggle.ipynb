{
 "cells": [
  {
   "cell_type": "code",
   "execution_count": 1,
   "id": "709322bb",
   "metadata": {
    "execution": {
     "iopub.execute_input": "2024-05-27T16:44:32.917894Z",
     "iopub.status.busy": "2024-05-27T16:44:32.917228Z",
     "iopub.status.idle": "2024-05-27T16:44:46.079113Z",
     "shell.execute_reply": "2024-05-27T16:44:46.078039Z"
    },
    "papermill": {
     "duration": 13.172923,
     "end_time": "2024-05-27T16:44:46.081639",
     "exception": false,
     "start_time": "2024-05-27T16:44:32.908716",
     "status": "completed"
    },
    "tags": []
   },
   "outputs": [
    {
     "name": "stdout",
     "output_type": "stream",
     "text": [
      "Requirement already satisfied: gitpython in /opt/conda/lib/python3.10/site-packages (3.1.41)\r\n",
      "Requirement already satisfied: gitdb<5,>=4.0.1 in /opt/conda/lib/python3.10/site-packages (from gitpython) (4.0.11)\r\n",
      "Requirement already satisfied: smmap<6,>=3.0.1 in /opt/conda/lib/python3.10/site-packages (from gitdb<5,>=4.0.1->gitpython) (5.0.1)\r\n"
     ]
    }
   ],
   "source": [
    "!pip install gitpython"
   ]
  },
  {
   "cell_type": "code",
   "execution_count": 2,
   "id": "2649760c",
   "metadata": {
    "execution": {
     "iopub.execute_input": "2024-05-27T16:44:46.097417Z",
     "iopub.status.busy": "2024-05-27T16:44:46.097077Z",
     "iopub.status.idle": "2024-05-27T16:44:49.581989Z",
     "shell.execute_reply": "2024-05-27T16:44:49.580666Z"
    },
    "papermill": {
     "duration": 3.495315,
     "end_time": "2024-05-27T16:44:49.584155",
     "exception": false,
     "start_time": "2024-05-27T16:44:46.088840",
     "status": "completed"
    },
    "tags": []
   },
   "outputs": [
    {
     "data": {
      "text/plain": [
       "<git.repo.base.Repo '/kaggle/working/sample/.git'>"
      ]
     },
     "execution_count": 2,
     "metadata": {},
     "output_type": "execute_result"
    }
   ],
   "source": [
    "import git\n",
    "!rm -rf /kaggle/working/sample\n",
    "!rm -rf /kaggle/working/trained_model\n",
    "git.Repo.clone_from('https://github.com/dnsang1611/KGAT_test.git', '/kaggle/working/sample')"
   ]
  },
  {
   "cell_type": "code",
   "execution_count": 3,
   "id": "b14ecb56",
   "metadata": {
    "execution": {
     "iopub.execute_input": "2024-05-27T16:44:49.599800Z",
     "iopub.status.busy": "2024-05-27T16:44:49.599480Z",
     "iopub.status.idle": "2024-05-27T16:44:49.605955Z",
     "shell.execute_reply": "2024-05-27T16:44:49.605161Z"
    },
    "papermill": {
     "duration": 0.016617,
     "end_time": "2024-05-27T16:44:49.607891",
     "exception": false,
     "start_time": "2024-05-27T16:44:49.591274",
     "status": "completed"
    },
    "tags": []
   },
   "outputs": [
    {
     "name": "stdout",
     "output_type": "stream",
     "text": [
      "/kaggle/working\n"
     ]
    }
   ],
   "source": [
    "%cd /kaggle/working/"
   ]
  },
  {
   "cell_type": "markdown",
   "id": "7dcafb6f",
   "metadata": {
    "papermill": {
     "duration": 0.00678,
     "end_time": "2024-05-27T16:44:49.621570",
     "exception": false,
     "start_time": "2024-05-27T16:44:49.614790",
     "status": "completed"
    },
    "tags": []
   },
   "source": [
    "# **KGAT**"
   ]
  },
  {
   "cell_type": "markdown",
   "id": "44ffc286",
   "metadata": {
    "papermill": {
     "duration": 0.00665,
     "end_time": "2024-05-27T16:44:49.635166",
     "exception": false,
     "start_time": "2024-05-27T16:44:49.628516",
     "status": "completed"
    },
    "tags": []
   },
   "source": [
    "## **KGAT from scratch**"
   ]
  },
  {
   "cell_type": "code",
   "execution_count": 4,
   "id": "72764350",
   "metadata": {
    "execution": {
     "iopub.execute_input": "2024-05-27T16:44:49.650129Z",
     "iopub.status.busy": "2024-05-27T16:44:49.649844Z",
     "iopub.status.idle": "2024-05-27T16:44:49.653980Z",
     "shell.execute_reply": "2024-05-27T16:44:49.653138Z"
    },
    "papermill": {
     "duration": 0.013914,
     "end_time": "2024-05-27T16:44:49.655937",
     "exception": false,
     "start_time": "2024-05-27T16:44:49.642023",
     "status": "completed"
    },
    "tags": []
   },
   "outputs": [],
   "source": [
    "# !python /kaggle/working/sample/KGAT-pytorch/main_kgat.py \\\n",
    "#                     --data_dir \"/kaggle/input/course-rec-data/mooccubex\" \\\n",
    "#                     --data_name train-running-data \\\n",
    "#                     --use_pretrain 0 \\\n",
    "#                     --n_epoch 1000 \\\n",
    "#                     --cf_batch_size 1024 \\\n",
    "#                     --kg_batch_size 2048 \\\n",
    "#                     --test_batch_size 256 \\\n",
    "#                     --cf_print_every 50 \\\n",
    "#                     --kg_print_every 50 \\\n",
    "#                     --evaluate_every 1 \\\n",
    "#                     --Ks '[1, 5, 10]'"
   ]
  },
  {
   "cell_type": "markdown",
   "id": "7610b494",
   "metadata": {
    "papermill": {
     "duration": 0.006701,
     "end_time": "2024-05-27T16:44:49.669645",
     "exception": false,
     "start_time": "2024-05-27T16:44:49.662944",
     "status": "completed"
    },
    "tags": []
   },
   "source": [
    "## **KGAT with BPRMF**"
   ]
  },
  {
   "cell_type": "code",
   "execution_count": 5,
   "id": "df30655c",
   "metadata": {
    "collapsed": true,
    "execution": {
     "iopub.execute_input": "2024-05-27T16:44:49.684215Z",
     "iopub.status.busy": "2024-05-27T16:44:49.683948Z",
     "iopub.status.idle": "2024-05-27T16:44:49.687895Z",
     "shell.execute_reply": "2024-05-27T16:44:49.687081Z"
    },
    "jupyter": {
     "outputs_hidden": true
    },
    "papermill": {
     "duration": 0.013323,
     "end_time": "2024-05-27T16:44:49.689701",
     "exception": false,
     "start_time": "2024-05-27T16:44:49.676378",
     "status": "completed"
    },
    "tags": []
   },
   "outputs": [],
   "source": [
    "# !python /kaggle/working/sample/KGAT-pytorch/main_kgat.py --data_dir \"/kaggle/input/course-rec-data/mooccubex\" \\\n",
    "#                     --data_name train-running-data \\\n",
    "#                     --use_pretrain 1 \\\n",
    "#                     --n_epoch 200 \\\n",
    "#                     --cf_batch_size 1024 \\\n",
    "#                     --kg_batch_size 2048 \\\n",
    "#                     --test_batch_size 256 \\\n",
    "#                     --cf_print_every 1000 \\\n",
    "#                     --kg_print_every 1000 \\\n",
    "#                     --evaluate_every 5 \\\n",
    "#                     --Ks '[1, 5, 10]' \\\n",
    "#                     --pretrain_embedding_dir \"/kaggle/input/bprmf_pretrained_ep40_rns/pytorch/addmf.npz/1\""
   ]
  },
  {
   "cell_type": "code",
   "execution_count": 6,
   "id": "85890e79",
   "metadata": {
    "execution": {
     "iopub.execute_input": "2024-05-27T16:44:49.705533Z",
     "iopub.status.busy": "2024-05-27T16:44:49.705250Z",
     "iopub.status.idle": "2024-05-27T16:44:49.709222Z",
     "shell.execute_reply": "2024-05-27T16:44:49.708429Z"
    },
    "papermill": {
     "duration": 0.013536,
     "end_time": "2024-05-27T16:44:49.711056",
     "exception": false,
     "start_time": "2024-05-27T16:44:49.697520",
     "status": "completed"
    },
    "tags": []
   },
   "outputs": [],
   "source": [
    "# !python /kaggle/working/sample/KGAT-pytorch/predict_kgat.py --data_dir \"/kaggle/input/course-rec-data/mooccubex\" \\\n",
    "#                     --data_name test-running-data \\\n",
    "#                     --use_pretrain 2 \\\n",
    "#                     --pretrain_model_path /kaggle/input/kgat_pretrained_ep50/pytorch/kgat_ep50_pre/1/model_epoch50.pth \\\n",
    "#                     --n_epoch 6 \\\n",
    "#                     --cf_batch_size 1024 \\\n",
    "#                     --kg_batch_size 2048 \\\n",
    "#                     --test_batch_size 256 \\\n",
    "#                     --cf_print_every 50 \\\n",
    "#                     --kg_print_every 50 \\\n",
    "#                     --evaluate_every 2 \\\n",
    "#                     --Ks '[1, 5, 10]'"
   ]
  },
  {
   "cell_type": "markdown",
   "id": "4e0f2875",
   "metadata": {
    "papermill": {
     "duration": 0.006826,
     "end_time": "2024-05-27T16:44:49.724906",
     "exception": false,
     "start_time": "2024-05-27T16:44:49.718080",
     "status": "completed"
    },
    "tags": []
   },
   "source": [
    "# **BPRMF**"
   ]
  },
  {
   "cell_type": "code",
   "execution_count": 7,
   "id": "c9f98e33",
   "metadata": {
    "_kg_hide-output": true,
    "execution": {
     "iopub.execute_input": "2024-05-27T16:44:49.739969Z",
     "iopub.status.busy": "2024-05-27T16:44:49.739648Z",
     "iopub.status.idle": "2024-05-27T17:30:43.606421Z",
     "shell.execute_reply": "2024-05-27T17:30:43.605316Z"
    },
    "papermill": {
     "duration": 2753.877355,
     "end_time": "2024-05-27T17:30:43.609073",
     "exception": false,
     "start_time": "2024-05-27T16:44:49.731718",
     "status": "completed"
    },
    "tags": []
   },
   "outputs": [
    {
     "name": "stdout",
     "output_type": "stream",
     "text": [
      "All logs will be saved to trained_model/BPRMF/train-running-data/embed-dim64_lr0.0001_pretrain0/log0.log\r\n",
      "2024-05-27 16:44:56,045 - root - INFO - Namespace(seed=2019, data_name='train-running-data', data_dir='/kaggle/input/course-rec-data/mooccubex', use_pretrain=0, pretrain_embedding_dir='datasets/pretrain/', pretrain_model_path='trained_model/model.pth', embed_dim=64, l2loss_lambda=1e-05, train_batch_size=1024, test_batch_size=10000, lr=0.0001, n_epoch=300, stopping_steps=5, print_every=1000, evaluate_every=5, Ks='[1, 5, 10]', save_dir='trained_model/BPRMF/train-running-data/embed-dim64_lr0.0001_pretrain0/')\r\n",
      "2024-05-27 16:44:58,534 - root - INFO - n_users:     99969\r\n",
      "2024-05-27 16:44:58,534 - root - INFO - n_items:     2831\r\n",
      "2024-05-27 16:44:58,534 - root - INFO - n_cf_train:  1792212\r\n",
      "2024-05-27 16:44:58,534 - root - INFO - n_cf_test:   99969\r\n",
      "2024-05-27 16:44:58,843 - root - INFO - BPRMF(\r\n",
      "  (user_embed): Embedding(99969, 64)\r\n",
      "  (item_embed): Embedding(2831, 64)\r\n",
      ")\r\n",
      "2024-05-27 16:45:00,148 - jax._src.path - DEBUG - etils.epath found. Using etils.epath for file I/O.\r\n",
      "2024-05-27 16:45:39,182 - root - INFO - CF Training: Epoch 0001 Iter 1000 / 1751 | Time 0.0s | Iter Loss 0.6914 | Iter Mean Loss 0.6926\r\n",
      "2024-05-27 16:46:07,118 - root - INFO - CF Training: Epoch 0001 Total Iter 1751 | Total Time 66.1s | Iter Mean Loss 0.6910\r\n",
      "2024-05-27 16:46:44,444 - root - INFO - CF Training: Epoch 0002 Iter 1000 / 1751 | Time 0.0s | Iter Loss 0.6582 | Iter Mean Loss 0.6739\r\n",
      "2024-05-27 16:47:12,550 - root - INFO - CF Training: Epoch 0002 Total Iter 1751 | Total Time 65.4s | Iter Mean Loss 0.6610\r\n",
      "2024-05-27 16:47:51,067 - root - INFO - CF Training: Epoch 0003 Iter 1000 / 1751 | Time 0.0s | Iter Loss 0.5678 | Iter Mean Loss 0.5994\r\n",
      "2024-05-27 16:48:19,275 - root - INFO - CF Training: Epoch 0003 Total Iter 1751 | Total Time 66.7s | Iter Mean Loss 0.5774\r\n",
      "2024-05-27 16:48:57,352 - root - INFO - CF Training: Epoch 0004 Iter 1000 / 1751 | Time 0.0s | Iter Loss 0.4610 | Iter Mean Loss 0.4958\r\n",
      "2024-05-27 16:49:25,409 - root - INFO - CF Training: Epoch 0004 Total Iter 1751 | Total Time 66.1s | Iter Mean Loss 0.4749\r\n",
      "2024-05-27 16:50:02,725 - root - INFO - CF Training: Epoch 0005 Iter 1000 / 1751 | Time 0.0s | Iter Loss 0.3965 | Iter Mean Loss 0.4050\r\n",
      "2024-05-27 16:50:31,007 - root - INFO - CF Training: Epoch 0005 Total Iter 1751 | Total Time 65.6s | Iter Mean Loss 0.3900\r\n",
      "Evaluating Iteration:   0%|                              | 0/10 [00:00<?, ?it/s]Hello\r\n",
      "Evaluating Iteration:  10%|██▏                   | 1/10 [00:12<01:54, 12.68s/it]Hello\r\n",
      "Evaluating Iteration:  20%|████▍                 | 2/10 [00:25<01:41, 12.74s/it]Hello\r\n",
      "Evaluating Iteration:  30%|██████▌               | 3/10 [00:38<01:29, 12.77s/it]Hello\r\n",
      "Evaluating Iteration:  40%|████████▊             | 4/10 [00:50<01:16, 12.72s/it]Hello\r\n",
      "Evaluating Iteration:  50%|███████████           | 5/10 [01:03<01:03, 12.75s/it]Hello\r\n",
      "Evaluating Iteration:  60%|█████████████▏        | 6/10 [01:16<00:50, 12.67s/it]Hello\r\n",
      "Evaluating Iteration:  70%|███████████████▍      | 7/10 [01:29<00:38, 12.77s/it]Hello\r\n",
      "Evaluating Iteration:  80%|█████████████████▌    | 8/10 [01:41<00:25, 12.71s/it]Hello\r\n",
      "Evaluating Iteration:  90%|███████████████████▊  | 9/10 [01:54<00:12, 12.71s/it]Hello\r\n",
      "Evaluating Iteration: 100%|█████████████████████| 10/10 [02:07<00:00, 12.71s/it]\r\n",
      "2024-05-27 16:52:38,636 - root - INFO - CF Evaluation: Epoch 0005 | Total Time 127.6s | Precision [0.4780, 0.0996], Recall [0.4780, 0.9961], NDCG [0.4780, 0.7258]\r\n",
      "2024-05-27 16:52:38,679 - root - INFO - Save model on epoch 0005!\r\n",
      "2024-05-27 16:53:15,901 - root - INFO - CF Training: Epoch 0006 Iter 1000 / 1751 | Time 0.0s | Iter Loss 0.3340 | Iter Mean Loss 0.3417\r\n",
      "2024-05-27 16:53:43,946 - root - INFO - CF Training: Epoch 0006 Total Iter 1751 | Total Time 65.3s | Iter Mean Loss 0.3320\r\n",
      "2024-05-27 16:54:21,119 - root - INFO - CF Training: Epoch 0007 Iter 1000 / 1751 | Time 0.0s | Iter Loss 0.2883 | Iter Mean Loss 0.3005\r\n",
      "2024-05-27 16:54:49,128 - root - INFO - CF Training: Epoch 0007 Total Iter 1751 | Total Time 65.2s | Iter Mean Loss 0.2939\r\n",
      "2024-05-27 16:55:26,279 - root - INFO - CF Training: Epoch 0008 Iter 1000 / 1751 | Time 0.0s | Iter Loss 0.2713 | Iter Mean Loss 0.2720\r\n",
      "2024-05-27 16:55:54,017 - root - INFO - CF Training: Epoch 0008 Total Iter 1751 | Total Time 64.9s | Iter Mean Loss 0.2674\r\n",
      "2024-05-27 16:56:31,215 - root - INFO - CF Training: Epoch 0009 Iter 1000 / 1751 | Time 0.0s | Iter Loss 0.2388 | Iter Mean Loss 0.2520\r\n",
      "2024-05-27 16:56:59,300 - root - INFO - CF Training: Epoch 0009 Total Iter 1751 | Total Time 65.3s | Iter Mean Loss 0.2486\r\n",
      "2024-05-27 16:57:36,361 - root - INFO - CF Training: Epoch 0010 Iter 1000 / 1751 | Time 0.0s | Iter Loss 0.2408 | Iter Mean Loss 0.2357\r\n",
      "2024-05-27 16:58:04,310 - root - INFO - CF Training: Epoch 0010 Total Iter 1751 | Total Time 65.0s | Iter Mean Loss 0.2331\r\n",
      "Evaluating Iteration:   0%|                              | 0/10 [00:00<?, ?it/s]Hello\r\n",
      "Evaluating Iteration:  10%|██▏                   | 1/10 [00:12<01:53, 12.64s/it]Hello\r\n",
      "Evaluating Iteration:  20%|████▍                 | 2/10 [00:25<01:41, 12.69s/it]Hello\r\n",
      "Evaluating Iteration:  30%|██████▌               | 3/10 [00:38<01:28, 12.69s/it]Hello\r\n",
      "Evaluating Iteration:  40%|████████▊             | 4/10 [00:50<01:15, 12.66s/it]Hello\r\n",
      "Evaluating Iteration:  50%|███████████           | 5/10 [01:03<01:03, 12.63s/it]Hello\r\n",
      "Evaluating Iteration:  60%|█████████████▏        | 6/10 [01:15<00:50, 12.64s/it]Hello\r\n",
      "Evaluating Iteration:  70%|███████████████▍      | 7/10 [01:28<00:37, 12.62s/it]Hello\r\n",
      "Evaluating Iteration:  80%|█████████████████▌    | 8/10 [01:41<00:25, 12.59s/it]Hello\r\n",
      "Evaluating Iteration:  90%|███████████████████▊  | 9/10 [01:53<00:12, 12.59s/it]Hello\r\n",
      "Evaluating Iteration: 100%|█████████████████████| 10/10 [02:06<00:00, 12.62s/it]\r\n",
      "2024-05-27 17:00:11,019 - root - INFO - CF Evaluation: Epoch 0010 | Total Time 126.7s | Precision [0.3150, 0.0748], Recall [0.3150, 0.7479], NDCG [0.3150, 0.5095]\r\n",
      "2024-05-27 17:00:48,301 - root - INFO - CF Training: Epoch 0011 Iter 1000 / 1751 | Time 0.0s | Iter Loss 0.2269 | Iter Mean Loss 0.2231\r\n",
      "2024-05-27 17:01:16,145 - root - INFO - CF Training: Epoch 0011 Total Iter 1751 | Total Time 65.1s | Iter Mean Loss 0.2205\r\n",
      "2024-05-27 17:01:53,423 - root - INFO - CF Training: Epoch 0012 Iter 1000 / 1751 | Time 0.0s | Iter Loss 0.1974 | Iter Mean Loss 0.2114\r\n",
      "2024-05-27 17:02:21,296 - root - INFO - CF Training: Epoch 0012 Total Iter 1751 | Total Time 65.2s | Iter Mean Loss 0.2092\r\n",
      "2024-05-27 17:02:58,492 - root - INFO - CF Training: Epoch 0013 Iter 1000 / 1751 | Time 0.0s | Iter Loss 0.1974 | Iter Mean Loss 0.2012\r\n",
      "2024-05-27 17:03:26,561 - root - INFO - CF Training: Epoch 0013 Total Iter 1751 | Total Time 65.3s | Iter Mean Loss 0.1989\r\n",
      "2024-05-27 17:04:03,837 - root - INFO - CF Training: Epoch 0014 Iter 1000 / 1751 | Time 0.0s | Iter Loss 0.1968 | Iter Mean Loss 0.1911\r\n",
      "2024-05-27 17:04:31,584 - root - INFO - CF Training: Epoch 0014 Total Iter 1751 | Total Time 65.0s | Iter Mean Loss 0.1890\r\n",
      "2024-05-27 17:05:08,854 - root - INFO - CF Training: Epoch 0015 Iter 1000 / 1751 | Time 0.0s | Iter Loss 0.1999 | Iter Mean Loss 0.1820\r\n",
      "2024-05-27 17:05:36,760 - root - INFO - CF Training: Epoch 0015 Total Iter 1751 | Total Time 65.2s | Iter Mean Loss 0.1800\r\n",
      "Evaluating Iteration:   0%|                              | 0/10 [00:00<?, ?it/s]Hello\r\n",
      "Evaluating Iteration:  10%|██▏                   | 1/10 [00:12<01:54, 12.70s/it]Hello\r\n",
      "Evaluating Iteration:  20%|████▍                 | 2/10 [00:25<01:42, 12.77s/it]Hello\r\n",
      "Evaluating Iteration:  30%|██████▌               | 3/10 [00:38<01:29, 12.78s/it]Hello\r\n",
      "Evaluating Iteration:  40%|████████▊             | 4/10 [00:50<01:16, 12.71s/it]Hello\r\n",
      "Evaluating Iteration:  50%|███████████           | 5/10 [01:03<01:03, 12.72s/it]Hello\r\n",
      "Evaluating Iteration:  60%|█████████████▏        | 6/10 [01:16<00:50, 12.69s/it]Hello\r\n",
      "Evaluating Iteration:  70%|███████████████▍      | 7/10 [01:28<00:37, 12.63s/it]Hello\r\n",
      "Evaluating Iteration:  80%|█████████████████▌    | 8/10 [01:41<00:25, 12.63s/it]Hello\r\n",
      "Evaluating Iteration:  90%|███████████████████▊  | 9/10 [01:54<00:12, 12.64s/it]Hello\r\n",
      "Evaluating Iteration: 100%|█████████████████████| 10/10 [02:06<00:00, 12.65s/it]\r\n",
      "2024-05-27 17:07:43,789 - root - INFO - CF Evaluation: Epoch 0015 | Total Time 127.0s | Precision [0.3265, 0.0731], Recall [0.3265, 0.7313], NDCG [0.3265, 0.5127]\r\n",
      "2024-05-27 17:08:21,830 - root - INFO - CF Training: Epoch 0016 Iter 1000 / 1751 | Time 0.0s | Iter Loss 0.1820 | Iter Mean Loss 0.1738\r\n",
      "2024-05-27 17:08:50,669 - root - INFO - CF Training: Epoch 0016 Total Iter 1751 | Total Time 66.9s | Iter Mean Loss 0.1718\r\n",
      "2024-05-27 17:09:28,752 - root - INFO - CF Training: Epoch 0017 Iter 1000 / 1751 | Time 0.0s | Iter Loss 0.1691 | Iter Mean Loss 0.1651\r\n",
      "2024-05-27 17:09:58,224 - root - INFO - CF Training: Epoch 0017 Total Iter 1751 | Total Time 67.6s | Iter Mean Loss 0.1634\r\n",
      "2024-05-27 17:10:37,486 - root - INFO - CF Training: Epoch 0018 Iter 1000 / 1751 | Time 0.0s | Iter Loss 0.1666 | Iter Mean Loss 0.1569\r\n",
      "2024-05-27 17:11:06,915 - root - INFO - CF Training: Epoch 0018 Total Iter 1751 | Total Time 68.7s | Iter Mean Loss 0.1556\r\n",
      "2024-05-27 17:11:46,088 - root - INFO - CF Training: Epoch 0019 Iter 1000 / 1751 | Time 0.0s | Iter Loss 0.1564 | Iter Mean Loss 0.1506\r\n",
      "2024-05-27 17:12:15,327 - root - INFO - CF Training: Epoch 0019 Total Iter 1751 | Total Time 68.4s | Iter Mean Loss 0.1491\r\n",
      "2024-05-27 17:12:54,303 - root - INFO - CF Training: Epoch 0020 Iter 1000 / 1751 | Time 0.0s | Iter Loss 0.1417 | Iter Mean Loss 0.1437\r\n",
      "2024-05-27 17:13:22,443 - root - INFO - CF Training: Epoch 0020 Total Iter 1751 | Total Time 67.1s | Iter Mean Loss 0.1421\r\n",
      "Evaluating Iteration:   0%|                              | 0/10 [00:00<?, ?it/s]Hello\r\n",
      "Evaluating Iteration:  10%|██▏                   | 1/10 [00:12<01:55, 12.85s/it]Hello\r\n",
      "Evaluating Iteration:  20%|████▍                 | 2/10 [00:25<01:41, 12.71s/it]Hello\r\n",
      "Evaluating Iteration:  30%|██████▌               | 3/10 [00:38<01:29, 12.75s/it]Hello\r\n",
      "Evaluating Iteration:  40%|████████▊             | 4/10 [00:51<01:16, 12.80s/it]Hello\r\n",
      "Evaluating Iteration:  50%|███████████           | 5/10 [01:03<01:03, 12.76s/it]Hello\r\n",
      "Evaluating Iteration:  60%|█████████████▏        | 6/10 [01:16<00:50, 12.73s/it]Hello\r\n",
      "Evaluating Iteration:  70%|███████████████▍      | 7/10 [01:29<00:38, 12.69s/it]Hello\r\n",
      "Evaluating Iteration:  80%|█████████████████▌    | 8/10 [01:41<00:25, 12.63s/it]Hello\r\n",
      "Evaluating Iteration:  90%|███████████████████▊  | 9/10 [01:54<00:12, 12.63s/it]Hello\r\n",
      "Evaluating Iteration: 100%|█████████████████████| 10/10 [02:07<00:00, 12.71s/it]\r\n",
      "2024-05-27 17:15:30,016 - root - INFO - CF Evaluation: Epoch 0020 | Total Time 127.6s | Precision [0.3401, 0.0747], Recall [0.3401, 0.7471], NDCG [0.3401, 0.5295]\r\n",
      "2024-05-27 17:16:07,538 - root - INFO - CF Training: Epoch 0021 Iter 1000 / 1751 | Time 0.0s | Iter Loss 0.1420 | Iter Mean Loss 0.1377\r\n",
      "2024-05-27 17:16:35,584 - root - INFO - CF Training: Epoch 0021 Total Iter 1751 | Total Time 65.6s | Iter Mean Loss 0.1364\r\n",
      "2024-05-27 17:17:12,991 - root - INFO - CF Training: Epoch 0022 Iter 1000 / 1751 | Time 0.0s | Iter Loss 0.1305 | Iter Mean Loss 0.1323\r\n",
      "2024-05-27 17:17:40,801 - root - INFO - CF Training: Epoch 0022 Total Iter 1751 | Total Time 65.2s | Iter Mean Loss 0.1310\r\n",
      "2024-05-27 17:18:17,843 - root - INFO - CF Training: Epoch 0023 Iter 1000 / 1751 | Time 0.0s | Iter Loss 0.1166 | Iter Mean Loss 0.1268\r\n",
      "2024-05-27 17:18:45,815 - root - INFO - CF Training: Epoch 0023 Total Iter 1751 | Total Time 65.0s | Iter Mean Loss 0.1256\r\n",
      "2024-05-27 17:19:22,966 - root - INFO - CF Training: Epoch 0024 Iter 1000 / 1751 | Time 0.0s | Iter Loss 0.1197 | Iter Mean Loss 0.1212\r\n",
      "2024-05-27 17:19:50,848 - root - INFO - CF Training: Epoch 0024 Total Iter 1751 | Total Time 65.0s | Iter Mean Loss 0.1200\r\n",
      "2024-05-27 17:20:27,682 - root - INFO - CF Training: Epoch 0025 Iter 1000 / 1751 | Time 0.0s | Iter Loss 0.1136 | Iter Mean Loss 0.1161\r\n",
      "2024-05-27 17:20:55,500 - root - INFO - CF Training: Epoch 0025 Total Iter 1751 | Total Time 64.7s | Iter Mean Loss 0.1152\r\n",
      "Evaluating Iteration:   0%|                              | 0/10 [00:00<?, ?it/s]Hello\r\n",
      "Evaluating Iteration:  10%|██▏                   | 1/10 [00:12<01:51, 12.43s/it]Hello\r\n",
      "Evaluating Iteration:  20%|████▍                 | 2/10 [00:25<01:40, 12.52s/it]Hello\r\n",
      "Evaluating Iteration:  30%|██████▌               | 3/10 [00:37<01:27, 12.57s/it]Hello\r\n",
      "Evaluating Iteration:  40%|████████▊             | 4/10 [00:50<01:15, 12.57s/it]Hello\r\n",
      "Evaluating Iteration:  50%|███████████           | 5/10 [01:02<01:02, 12.57s/it]Hello\r\n",
      "Evaluating Iteration:  60%|█████████████▏        | 6/10 [01:15<00:50, 12.63s/it]Hello\r\n",
      "Evaluating Iteration:  70%|███████████████▍      | 7/10 [01:28<00:37, 12.66s/it]Hello\r\n",
      "Evaluating Iteration:  80%|█████████████████▌    | 8/10 [01:40<00:25, 12.66s/it]Hello\r\n",
      "Evaluating Iteration:  90%|███████████████████▊  | 9/10 [01:53<00:12, 12.72s/it]Hello\r\n",
      "Evaluating Iteration: 100%|█████████████████████| 10/10 [02:06<00:00, 12.64s/it]\r\n",
      "2024-05-27 17:23:02,342 - root - INFO - CF Evaluation: Epoch 0025 | Total Time 126.8s | Precision [0.3476, 0.0758], Recall [0.3476, 0.7581], NDCG [0.3476, 0.5394]\r\n",
      "2024-05-27 17:23:40,754 - root - INFO - CF Training: Epoch 0026 Iter 1000 / 1751 | Time 0.0s | Iter Loss 0.1185 | Iter Mean Loss 0.1118\r\n",
      "2024-05-27 17:24:09,404 - root - INFO - CF Training: Epoch 0026 Total Iter 1751 | Total Time 67.1s | Iter Mean Loss 0.1109\r\n",
      "2024-05-27 17:24:47,288 - root - INFO - CF Training: Epoch 0027 Iter 1000 / 1751 | Time 0.0s | Iter Loss 0.1233 | Iter Mean Loss 0.1080\r\n",
      "2024-05-27 17:25:16,086 - root - INFO - CF Training: Epoch 0027 Total Iter 1751 | Total Time 66.7s | Iter Mean Loss 0.1069\r\n",
      "2024-05-27 17:25:54,383 - root - INFO - CF Training: Epoch 0028 Iter 1000 / 1751 | Time 0.0s | Iter Loss 0.1217 | Iter Mean Loss 0.1038\r\n",
      "2024-05-27 17:26:23,207 - root - INFO - CF Training: Epoch 0028 Total Iter 1751 | Total Time 67.1s | Iter Mean Loss 0.1030\r\n",
      "2024-05-27 17:27:01,321 - root - INFO - CF Training: Epoch 0029 Iter 1000 / 1751 | Time 0.0s | Iter Loss 0.0971 | Iter Mean Loss 0.1002\r\n",
      "2024-05-27 17:27:29,705 - root - INFO - CF Training: Epoch 0029 Total Iter 1751 | Total Time 66.5s | Iter Mean Loss 0.0995\r\n",
      "2024-05-27 17:28:07,076 - root - INFO - CF Training: Epoch 0030 Iter 1000 / 1751 | Time 0.0s | Iter Loss 0.1104 | Iter Mean Loss 0.0972\r\n",
      "2024-05-27 17:28:35,277 - root - INFO - CF Training: Epoch 0030 Total Iter 1751 | Total Time 65.6s | Iter Mean Loss 0.0962\r\n",
      "Evaluating Iteration:   0%|                              | 0/10 [00:00<?, ?it/s]Hello\r\n",
      "Evaluating Iteration:  10%|██▏                   | 1/10 [00:12<01:53, 12.59s/it]Hello\r\n",
      "Evaluating Iteration:  20%|████▍                 | 2/10 [00:25<01:41, 12.63s/it]Hello\r\n",
      "Evaluating Iteration:  30%|██████▌               | 3/10 [00:38<01:29, 12.73s/it]Hello\r\n",
      "Evaluating Iteration:  40%|████████▊             | 4/10 [00:50<01:16, 12.73s/it]Hello\r\n",
      "Evaluating Iteration:  50%|███████████           | 5/10 [01:03<01:03, 12.68s/it]Hello\r\n",
      "Evaluating Iteration:  60%|█████████████▏        | 6/10 [01:16<00:50, 12.67s/it]Hello\r\n",
      "Evaluating Iteration:  70%|███████████████▍      | 7/10 [01:28<00:37, 12.64s/it]Hello\r\n",
      "Evaluating Iteration:  80%|█████████████████▌    | 8/10 [01:41<00:25, 12.63s/it]Hello\r\n",
      "Evaluating Iteration:  90%|███████████████████▊  | 9/10 [01:54<00:12, 12.69s/it]Hello\r\n",
      "Evaluating Iteration: 100%|█████████████████████| 10/10 [02:06<00:00, 12.66s/it]\r\n",
      "2024-05-27 17:30:42,348 - root - INFO - CF Evaluation: Epoch 0030 | Total Time 127.1s | Precision [0.3493, 0.0765], Recall [0.3493, 0.7651], NDCG [0.3493, 0.5431]\r\n",
      "2024-05-27 17:30:42,361 - root - INFO - Best CF Evaluation: Epoch 0005 | Precision [0.4780, 0.0996], Recall [0.4780, 0.9961], NDCG [0.4780, 0.7258]\r\n"
     ]
    }
   ],
   "source": [
    "!python /kaggle/working/sample/KGAT-pytorch/main_bprmf.py --data_dir \"/kaggle/input/course-rec-data/mooccubex\" \\\n",
    "                      --data_name train-running-data \\\n",
    "                      --use_pretrain 0 \\\n",
    "                      --stopping_steps 5 \\\n",
    "                      --n_epoch 300 --print_every 1000 --evaluate_every 5 --Ks '[1, 5, 10]'"
   ]
  },
  {
   "cell_type": "code",
   "execution_count": 8,
   "id": "cd7f00c1",
   "metadata": {
    "execution": {
     "iopub.execute_input": "2024-05-27T17:30:43.654770Z",
     "iopub.status.busy": "2024-05-27T17:30:43.654421Z",
     "iopub.status.idle": "2024-05-27T17:30:43.658847Z",
     "shell.execute_reply": "2024-05-27T17:30:43.657957Z"
    },
    "papermill": {
     "duration": 0.029297,
     "end_time": "2024-05-27T17:30:43.660710",
     "exception": false,
     "start_time": "2024-05-27T17:30:43.631413",
     "status": "completed"
    },
    "tags": []
   },
   "outputs": [],
   "source": [
    "# !python /kaggle/working/sample/KGAT-pytorch/predict_bprmf.py \\\n",
    "#                         --data_dir \"/kaggle/input/course-rec-data/mooccubex\" \\\n",
    "#                         --data_name test-running-data \\\n",
    "#                         --use_pretrain 2 \\\n",
    "#                         --pretrain_model_path /kaggle/input/courserec-bprmf-mooccubex/pytorch/ep5/1/model_epoch5.pth \\\n",
    "#                         --n_epoch 300 --print_every 1000 --evaluate_every 10 --Ks '[1, 5, 10]'"
   ]
  },
  {
   "cell_type": "markdown",
   "id": "02c84ae3",
   "metadata": {
    "papermill": {
     "duration": 0.021413,
     "end_time": "2024-05-27T17:30:43.704913",
     "exception": false,
     "start_time": "2024-05-27T17:30:43.683500",
     "status": "completed"
    },
    "tags": []
   },
   "source": [
    "# **FM**"
   ]
  },
  {
   "cell_type": "markdown",
   "id": "330cd923",
   "metadata": {
    "papermill": {
     "duration": 0.021242,
     "end_time": "2024-05-27T17:30:43.747902",
     "exception": false,
     "start_time": "2024-05-27T17:30:43.726660",
     "status": "completed"
    },
    "tags": []
   },
   "source": [
    "## **FM with user info**"
   ]
  },
  {
   "cell_type": "code",
   "execution_count": 9,
   "id": "dc621898",
   "metadata": {
    "collapsed": true,
    "execution": {
     "iopub.execute_input": "2024-05-27T17:30:43.793005Z",
     "iopub.status.busy": "2024-05-27T17:30:43.792255Z",
     "iopub.status.idle": "2024-05-27T17:30:43.796353Z",
     "shell.execute_reply": "2024-05-27T17:30:43.795562Z"
    },
    "jupyter": {
     "outputs_hidden": true
    },
    "papermill": {
     "duration": 0.028826,
     "end_time": "2024-05-27T17:30:43.798503",
     "exception": false,
     "start_time": "2024-05-27T17:30:43.769677",
     "status": "completed"
    },
    "tags": []
   },
   "outputs": [],
   "source": [
    "# !python /kaggle/working/sample/KGAT-pytorch/main_nfm.py --data_dir \"/kaggle/input/course-rec-data/mooccubex\" \\\n",
    "#                     --model_type fm \\\n",
    "#                     --data_name train-running-data \\\n",
    "#                     --use_pretrain 0 \\\n",
    "#                     --use_user_info 1\\\n",
    "#                     --train_batch_size 1024 \\\n",
    "#                     --test_batch_size 1024 \\\n",
    "#                     --test_cores 0 \\\n",
    "#                     --print_every 50 \\\n",
    "#                     --evaluate_every 5 \\\n",
    "#                     --Ks '[1, 5, 10]'"
   ]
  },
  {
   "cell_type": "code",
   "execution_count": 10,
   "id": "6539be5b",
   "metadata": {
    "execution": {
     "iopub.execute_input": "2024-05-27T17:30:43.842843Z",
     "iopub.status.busy": "2024-05-27T17:30:43.842575Z",
     "iopub.status.idle": "2024-05-27T17:30:43.846644Z",
     "shell.execute_reply": "2024-05-27T17:30:43.845902Z"
    },
    "papermill": {
     "duration": 0.028621,
     "end_time": "2024-05-27T17:30:43.848661",
     "exception": false,
     "start_time": "2024-05-27T17:30:43.820040",
     "status": "completed"
    },
    "tags": []
   },
   "outputs": [],
   "source": [
    "# !python /kaggle/working/sample/KGAT-pytorch/predict_nfm.py --data_dir \"/kaggle/input/course-rec-data/mooccubex\" \\\n",
    "#                     --model_type fm \\\n",
    "#                     --data_name test-running-data \\\n",
    "#                     --use_pretrain 2 \\\n",
    "#                     --use_user_info 1 \\\n",
    "#                     --pretrain_model_path /kaggle/input/courserec-machine-factorization-mooccubex/pytorch/with-user-info/1/model_with_user_info_epoch65.pth \\\n",
    "#                     --train_batch_size 1024 \\\n",
    "#                     --test_batch_size 1024 \\\n",
    "#                     --test_cores 0 \\\n",
    "#                     --print_every 50 \\\n",
    "#                     --evaluate_every 5 \\\n",
    "#                     --Ks '[1, 5, 10]'"
   ]
  },
  {
   "cell_type": "markdown",
   "id": "04a0e495",
   "metadata": {
    "papermill": {
     "duration": 0.02124,
     "end_time": "2024-05-27T17:30:43.891449",
     "exception": false,
     "start_time": "2024-05-27T17:30:43.870209",
     "status": "completed"
    },
    "tags": []
   },
   "source": [
    "## **FM without user info**"
   ]
  },
  {
   "cell_type": "code",
   "execution_count": 11,
   "id": "157b4efa",
   "metadata": {
    "execution": {
     "iopub.execute_input": "2024-05-27T17:30:43.935531Z",
     "iopub.status.busy": "2024-05-27T17:30:43.935231Z",
     "iopub.status.idle": "2024-05-27T17:30:43.939130Z",
     "shell.execute_reply": "2024-05-27T17:30:43.938326Z"
    },
    "papermill": {
     "duration": 0.027963,
     "end_time": "2024-05-27T17:30:43.940957",
     "exception": false,
     "start_time": "2024-05-27T17:30:43.912994",
     "status": "completed"
    },
    "tags": []
   },
   "outputs": [],
   "source": [
    "# !python /kaggle/working/sample/KGAT-pytorch/main_nfm.py --data_dir \"/kaggle/input/course-rec-data/mooccubex\" \\\n",
    "#                     --model_type fm \\\n",
    "#                     --data_name train-running-data \\\n",
    "#                     --use_pretrain 0 \\\n",
    "#                     --use_user_info 0\\\n",
    "#                     --train_batch_size 1024 \\\n",
    "#                     --test_batch_size 1024 \\\n",
    "#                     --test_cores 0 \\\n",
    "#                     --print_every 50 \\\n",
    "#                     --evaluate_every 5 \\\n",
    "#                     --Ks '[1, 5, 10]'"
   ]
  },
  {
   "cell_type": "code",
   "execution_count": 12,
   "id": "1f547719",
   "metadata": {
    "execution": {
     "iopub.execute_input": "2024-05-27T17:30:43.985299Z",
     "iopub.status.busy": "2024-05-27T17:30:43.984562Z",
     "iopub.status.idle": "2024-05-27T17:30:43.988878Z",
     "shell.execute_reply": "2024-05-27T17:30:43.988043Z"
    },
    "papermill": {
     "duration": 0.028311,
     "end_time": "2024-05-27T17:30:43.990824",
     "exception": false,
     "start_time": "2024-05-27T17:30:43.962513",
     "status": "completed"
    },
    "tags": []
   },
   "outputs": [],
   "source": [
    "# !python /kaggle/working/sample/KGAT-pytorch/predict_nfm.py --data_dir \"/kaggle/input/course-rec-data/mooccubex\" \\\n",
    "#                     --model_type fm \\\n",
    "#                     --data_name test-running-data \\\n",
    "#                     --use_pretrain 2 \\\n",
    "#                     --use_user_info 0 \\\n",
    "#                     --pretrain_model_path /kaggle/input/courserec-machine-factorization-mooccubex/pytorch/without-user-info/1/model_without_user_info_epoch35.pth \\\n",
    "#                     --train_batch_size 1024 \\\n",
    "#                     --test_batch_size 1024 \\\n",
    "#                     --test_cores 0 \\\n",
    "#                     --print_every 50 \\\n",
    "#                     --evaluate_every 5 \\\n",
    "#                     --Ks '[1, 5, 10]'"
   ]
  },
  {
   "cell_type": "markdown",
   "id": "16e287b1",
   "metadata": {
    "papermill": {
     "duration": 0.021456,
     "end_time": "2024-05-27T17:30:44.033815",
     "exception": false,
     "start_time": "2024-05-27T17:30:44.012359",
     "status": "completed"
    },
    "tags": []
   },
   "source": [
    "# **NFM**"
   ]
  },
  {
   "cell_type": "markdown",
   "id": "503e62f1",
   "metadata": {
    "papermill": {
     "duration": 0.021317,
     "end_time": "2024-05-27T17:30:44.077185",
     "exception": false,
     "start_time": "2024-05-27T17:30:44.055868",
     "status": "completed"
    },
    "tags": []
   },
   "source": [
    "## **NFM with user info**"
   ]
  },
  {
   "cell_type": "code",
   "execution_count": 13,
   "id": "5c6e3b5f",
   "metadata": {
    "execution": {
     "iopub.execute_input": "2024-05-27T17:30:44.121278Z",
     "iopub.status.busy": "2024-05-27T17:30:44.121005Z",
     "iopub.status.idle": "2024-05-27T17:30:44.124810Z",
     "shell.execute_reply": "2024-05-27T17:30:44.124005Z"
    },
    "papermill": {
     "duration": 0.028026,
     "end_time": "2024-05-27T17:30:44.126755",
     "exception": false,
     "start_time": "2024-05-27T17:30:44.098729",
     "status": "completed"
    },
    "tags": []
   },
   "outputs": [],
   "source": [
    "# !python /kaggle/working/sample/KGAT-pytorch/main_nfm.py --data_dir \"/kaggle/input/course-rec-data/mooccubex\" \\\n",
    "#                     --model_type nfm \\\n",
    "#                     --data_name train-running-data \\\n",
    "#                     --use_pretrain 0 \\\n",
    "#                     --use_user_info 1\\\n",
    "#                     --train_batch_size 1024 \\\n",
    "#                     --test_batch_size 1024 \\\n",
    "#                     --test_cores 0 \\\n",
    "#                     --print_every 50 \\\n",
    "#                     --evaluate_every 5 \\\n",
    "#                     --Ks '[1, 5, 10]'"
   ]
  },
  {
   "cell_type": "code",
   "execution_count": 14,
   "id": "6d23aae1",
   "metadata": {
    "execution": {
     "iopub.execute_input": "2024-05-27T17:30:44.171606Z",
     "iopub.status.busy": "2024-05-27T17:30:44.171316Z",
     "iopub.status.idle": "2024-05-27T17:30:44.175326Z",
     "shell.execute_reply": "2024-05-27T17:30:44.174571Z"
    },
    "papermill": {
     "duration": 0.028629,
     "end_time": "2024-05-27T17:30:44.177235",
     "exception": false,
     "start_time": "2024-05-27T17:30:44.148606",
     "status": "completed"
    },
    "tags": []
   },
   "outputs": [],
   "source": [
    "# !python /kaggle/working/sample/KGAT-pytorch/predict_nfm.py --data_dir \"/kaggle/input/course-rec-data/mooccubex\" \\\n",
    "#                     --model_type nfm \\\n",
    "#                     --data_name test-running-data \\\n",
    "#                     --use_pretrain 2 \\\n",
    "#                     --use_user_info 1 \\\n",
    "#                     --pretrain_model_path /kaggle/input/courserec-nfm-mooccubex/pytorch/with-user-info/1/nfm_user_info_epoch10.pth \\\n",
    "#                     --train_batch_size 1024 \\\n",
    "#                     --test_batch_size 1024 \\\n",
    "#                     --test_cores 0 \\\n",
    "#                     --print_every 50 \\\n",
    "#                     --evaluate_every 5 \\\n",
    "#                     --Ks '[1, 5, 10]'"
   ]
  },
  {
   "cell_type": "markdown",
   "id": "2ab3b1f6",
   "metadata": {
    "papermill": {
     "duration": 0.021507,
     "end_time": "2024-05-27T17:30:44.220454",
     "exception": false,
     "start_time": "2024-05-27T17:30:44.198947",
     "status": "completed"
    },
    "tags": []
   },
   "source": [
    "## **NFM with user info**"
   ]
  },
  {
   "cell_type": "code",
   "execution_count": 15,
   "id": "36762d38",
   "metadata": {
    "execution": {
     "iopub.execute_input": "2024-05-27T17:30:44.265461Z",
     "iopub.status.busy": "2024-05-27T17:30:44.265136Z",
     "iopub.status.idle": "2024-05-27T17:30:44.269083Z",
     "shell.execute_reply": "2024-05-27T17:30:44.268311Z"
    },
    "papermill": {
     "duration": 0.028543,
     "end_time": "2024-05-27T17:30:44.270921",
     "exception": false,
     "start_time": "2024-05-27T17:30:44.242378",
     "status": "completed"
    },
    "tags": []
   },
   "outputs": [],
   "source": [
    "# !python /kaggle/working/sample/KGAT-pytorch/main_nfm.py --data_dir \"/kaggle/input/course-rec-data/mooccubex\" \\\n",
    "#                     --model_type nfm \\\n",
    "#                     --data_name train-running-data \\\n",
    "#                     --use_pretrain 0 \\\n",
    "#                     --use_user_info 0\\\n",
    "#                     --train_batch_size 1024 \\\n",
    "#                     --test_batch_size 1024 \\\n",
    "#                     --test_cores 0 \\\n",
    "#                     --print_every 50 \\\n",
    "#                     --evaluate_every 5 \\\n",
    "#                     --Ks '[1, 5, 10]'"
   ]
  },
  {
   "cell_type": "code",
   "execution_count": 16,
   "id": "98a2fae5",
   "metadata": {
    "execution": {
     "iopub.execute_input": "2024-05-27T17:30:44.315952Z",
     "iopub.status.busy": "2024-05-27T17:30:44.315316Z",
     "iopub.status.idle": "2024-05-27T17:30:44.319308Z",
     "shell.execute_reply": "2024-05-27T17:30:44.318519Z"
    },
    "papermill": {
     "duration": 0.02849,
     "end_time": "2024-05-27T17:30:44.321201",
     "exception": false,
     "start_time": "2024-05-27T17:30:44.292711",
     "status": "completed"
    },
    "tags": []
   },
   "outputs": [],
   "source": [
    "# !python /kaggle/working/sample/KGAT-pytorch/predict_nfm.py --data_dir \"/kaggle/input/course-rec-data/mooccubex\" \\\n",
    "#                     --model_type nfm \\\n",
    "#                     --data_name test-running-data \\\n",
    "#                     --use_pretrain 2 \\\n",
    "#                     --use_user_info 0 \\\n",
    "#                     --pretrain_model_path /kaggle/input/courserec-nfm-mooccubex/pytorch/without-user-info/1/nfm_no_user_info_epoch35.pth \\\n",
    "#                     --train_batch_size 1024 \\\n",
    "#                     --test_batch_size 1024 \\\n",
    "#                     --test_cores 0 \\\n",
    "#                     --print_every 50 \\\n",
    "#                     --evaluate_every 5 \\\n",
    "#                     --Ks '[1, 5, 10]'"
   ]
  }
 ],
 "metadata": {
  "kaggle": {
   "accelerator": "gpu",
   "dataSources": [
    {
     "datasetId": 5041168,
     "sourceId": 8457822,
     "sourceType": "datasetVersion"
    },
    {
     "modelInstanceId": 27326,
     "sourceId": 32640,
     "sourceType": "modelInstanceVersion"
    },
    {
     "modelInstanceId": 27343,
     "sourceId": 32665,
     "sourceType": "modelInstanceVersion"
    },
    {
     "modelInstanceId": 43773,
     "sourceId": 52067,
     "sourceType": "modelInstanceVersion"
    },
    {
     "modelInstanceId": 43774,
     "sourceId": 52068,
     "sourceType": "modelInstanceVersion"
    },
    {
     "modelInstanceId": 44027,
     "sourceId": 52397,
     "sourceType": "modelInstanceVersion"
    },
    {
     "modelInstanceId": 44028,
     "sourceId": 52399,
     "sourceType": "modelInstanceVersion"
    },
    {
     "isSourceIdPinned": true,
     "modelInstanceId": 47904,
     "sourceId": 57094,
     "sourceType": "modelInstanceVersion"
    }
   ],
   "dockerImageVersionId": 30699,
   "isGpuEnabled": true,
   "isInternetEnabled": true,
   "language": "python",
   "sourceType": "notebook"
  },
  "kernelspec": {
   "display_name": "Python 3",
   "language": "python",
   "name": "python3"
  },
  "language_info": {
   "codemirror_mode": {
    "name": "ipython",
    "version": 3
   },
   "file_extension": ".py",
   "mimetype": "text/x-python",
   "name": "python",
   "nbconvert_exporter": "python",
   "pygments_lexer": "ipython3",
   "version": "3.10.13"
  },
  "papermill": {
   "default_parameters": {},
   "duration": 2774.308984,
   "end_time": "2024-05-27T17:30:44.566385",
   "environment_variables": {},
   "exception": null,
   "input_path": "__notebook__.ipynb",
   "output_path": "__notebook__.ipynb",
   "parameters": {},
   "start_time": "2024-05-27T16:44:30.257401",
   "version": "2.5.0"
  }
 },
 "nbformat": 4,
 "nbformat_minor": 5
}
