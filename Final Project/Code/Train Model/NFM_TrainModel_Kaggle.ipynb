{
 "cells": [
  {
   "cell_type": "code",
   "execution_count": 1,
   "id": "c8c21f7d",
   "metadata": {
    "execution": {
     "iopub.execute_input": "2024-05-27T15:18:24.799666Z",
     "iopub.status.busy": "2024-05-27T15:18:24.799307Z",
     "iopub.status.idle": "2024-05-27T15:18:37.873152Z",
     "shell.execute_reply": "2024-05-27T15:18:37.872052Z"
    },
    "papermill": {
     "duration": 13.088236,
     "end_time": "2024-05-27T15:18:37.875690",
     "exception": false,
     "start_time": "2024-05-27T15:18:24.787454",
     "status": "completed"
    },
    "tags": []
   },
   "outputs": [
    {
     "name": "stdout",
     "output_type": "stream",
     "text": [
      "Requirement already satisfied: gitpython in /opt/conda/lib/python3.10/site-packages (3.1.41)\r\n",
      "Requirement already satisfied: gitdb<5,>=4.0.1 in /opt/conda/lib/python3.10/site-packages (from gitpython) (4.0.11)\r\n",
      "Requirement already satisfied: smmap<6,>=3.0.1 in /opt/conda/lib/python3.10/site-packages (from gitdb<5,>=4.0.1->gitpython) (5.0.1)\r\n"
     ]
    }
   ],
   "source": [
    "!pip install gitpython"
   ]
  },
  {
   "cell_type": "code",
   "execution_count": 2,
   "id": "7a3200bc",
   "metadata": {
    "execution": {
     "iopub.execute_input": "2024-05-27T15:18:37.891718Z",
     "iopub.status.busy": "2024-05-27T15:18:37.891349Z",
     "iopub.status.idle": "2024-05-27T15:18:40.822032Z",
     "shell.execute_reply": "2024-05-27T15:18:40.821074Z"
    },
    "papermill": {
     "duration": 2.941094,
     "end_time": "2024-05-27T15:18:40.824144",
     "exception": false,
     "start_time": "2024-05-27T15:18:37.883050",
     "status": "completed"
    },
    "tags": []
   },
   "outputs": [
    {
     "data": {
      "text/plain": [
       "<git.repo.base.Repo '/kaggle/working/sample/.git'>"
      ]
     },
     "execution_count": 2,
     "metadata": {},
     "output_type": "execute_result"
    }
   ],
   "source": [
    "import git\n",
    "!rm -rf /kaggle/working/sample\n",
    "!rm -rf /kaggle/working/trained_model\n",
    "git.Repo.clone_from('https://github.com/dnsang1611/KGAT_test.git', '/kaggle/working/sample')"
   ]
  },
  {
   "cell_type": "code",
   "execution_count": 3,
   "id": "66e15a38",
   "metadata": {
    "execution": {
     "iopub.execute_input": "2024-05-27T15:18:40.839384Z",
     "iopub.status.busy": "2024-05-27T15:18:40.839080Z",
     "iopub.status.idle": "2024-05-27T15:18:40.845191Z",
     "shell.execute_reply": "2024-05-27T15:18:40.844194Z"
    },
    "papermill": {
     "duration": 0.015986,
     "end_time": "2024-05-27T15:18:40.847083",
     "exception": false,
     "start_time": "2024-05-27T15:18:40.831097",
     "status": "completed"
    },
    "tags": []
   },
   "outputs": [
    {
     "name": "stdout",
     "output_type": "stream",
     "text": [
      "/kaggle/working\n"
     ]
    }
   ],
   "source": [
    "%cd /kaggle/working/"
   ]
  },
  {
   "cell_type": "markdown",
   "id": "a2efd694",
   "metadata": {
    "papermill": {
     "duration": 0.006656,
     "end_time": "2024-05-27T15:18:40.860470",
     "exception": false,
     "start_time": "2024-05-27T15:18:40.853814",
     "status": "completed"
    },
    "tags": []
   },
   "source": [
    "# **KGAT**"
   ]
  },
  {
   "cell_type": "markdown",
   "id": "684a052e",
   "metadata": {
    "papermill": {
     "duration": 0.006552,
     "end_time": "2024-05-27T15:18:40.873839",
     "exception": false,
     "start_time": "2024-05-27T15:18:40.867287",
     "status": "completed"
    },
    "tags": []
   },
   "source": [
    "## **KGAT from scratch**"
   ]
  },
  {
   "cell_type": "code",
   "execution_count": 4,
   "id": "c0749cfa",
   "metadata": {
    "execution": {
     "iopub.execute_input": "2024-05-27T15:18:40.889180Z",
     "iopub.status.busy": "2024-05-27T15:18:40.888801Z",
     "iopub.status.idle": "2024-05-27T15:18:40.893086Z",
     "shell.execute_reply": "2024-05-27T15:18:40.892272Z"
    },
    "papermill": {
     "duration": 0.014361,
     "end_time": "2024-05-27T15:18:40.894999",
     "exception": false,
     "start_time": "2024-05-27T15:18:40.880638",
     "status": "completed"
    },
    "tags": []
   },
   "outputs": [],
   "source": [
    "# !python /kaggle/working/sample/KGAT-pytorch/main_kgat.py \\\n",
    "#                     --data_dir \"/kaggle/input/course-rec-data/mooccubex\" \\\n",
    "#                     --data_name train-running-data \\\n",
    "#                     --use_pretrain 0 \\\n",
    "#                     --n_epoch 1000 \\\n",
    "#                     --cf_batch_size 1024 \\\n",
    "#                     --kg_batch_size 2048 \\\n",
    "#                     --test_batch_size 256 \\\n",
    "#                     --cf_print_every 50 \\\n",
    "#                     --kg_print_every 50 \\\n",
    "#                     --evaluate_every 1 \\\n",
    "#                     --Ks '[1, 5, 10]'"
   ]
  },
  {
   "cell_type": "markdown",
   "id": "9c394679",
   "metadata": {
    "papermill": {
     "duration": 0.006782,
     "end_time": "2024-05-27T15:18:40.908688",
     "exception": false,
     "start_time": "2024-05-27T15:18:40.901906",
     "status": "completed"
    },
    "tags": []
   },
   "source": [
    "## **KGAT with BPRMF**"
   ]
  },
  {
   "cell_type": "code",
   "execution_count": 5,
   "id": "539e92ec",
   "metadata": {
    "collapsed": true,
    "execution": {
     "iopub.execute_input": "2024-05-27T15:18:40.924195Z",
     "iopub.status.busy": "2024-05-27T15:18:40.923811Z",
     "iopub.status.idle": "2024-05-27T15:18:40.928266Z",
     "shell.execute_reply": "2024-05-27T15:18:40.927356Z"
    },
    "jupyter": {
     "outputs_hidden": true
    },
    "papermill": {
     "duration": 0.014417,
     "end_time": "2024-05-27T15:18:40.930187",
     "exception": false,
     "start_time": "2024-05-27T15:18:40.915770",
     "status": "completed"
    },
    "tags": []
   },
   "outputs": [],
   "source": [
    "# !python /kaggle/working/sample/KGAT-pytorch/main_kgat.py --data_dir \"/kaggle/input/course-rec-data/mooccubex\" \\\n",
    "#                     --data_name train-running-data \\\n",
    "#                     --use_pretrain 1 \\\n",
    "#                     --n_epoch 200 \\\n",
    "#                     --cf_batch_size 1024 \\\n",
    "#                     --kg_batch_size 2048 \\\n",
    "#                     --test_batch_size 256 \\\n",
    "#                     --cf_print_every 1000 \\\n",
    "#                     --kg_print_every 1000 \\\n",
    "#                     --evaluate_every 5 \\\n",
    "#                     --Ks '[1, 5, 10]' \\\n",
    "#                     --pretrain_embedding_dir \"/kaggle/input/bprmf_pretrained_ep40_rns/pytorch/addmf.npz/1\""
   ]
  },
  {
   "cell_type": "code",
   "execution_count": 6,
   "id": "4eff633f",
   "metadata": {
    "execution": {
     "iopub.execute_input": "2024-05-27T15:18:40.947213Z",
     "iopub.status.busy": "2024-05-27T15:18:40.946837Z",
     "iopub.status.idle": "2024-05-27T15:18:40.951347Z",
     "shell.execute_reply": "2024-05-27T15:18:40.950521Z"
    },
    "papermill": {
     "duration": 0.015845,
     "end_time": "2024-05-27T15:18:40.953252",
     "exception": false,
     "start_time": "2024-05-27T15:18:40.937407",
     "status": "completed"
    },
    "tags": []
   },
   "outputs": [],
   "source": [
    "# !python /kaggle/working/sample/KGAT-pytorch/predict_kgat.py --data_dir \"/kaggle/input/course-rec-data/mooccubex\" \\\n",
    "#                     --data_name test-running-data \\\n",
    "#                     --use_pretrain 2 \\\n",
    "#                     --pretrain_model_path /kaggle/input/kgat_pretrained_ep50/pytorch/kgat_ep50_pre/1/model_epoch50.pth \\\n",
    "#                     --n_epoch 6 \\\n",
    "#                     --cf_batch_size 1024 \\\n",
    "#                     --kg_batch_size 2048 \\\n",
    "#                     --test_batch_size 256 \\\n",
    "#                     --cf_print_every 50 \\\n",
    "#                     --kg_print_every 50 \\\n",
    "#                     --evaluate_every 2 \\\n",
    "#                     --Ks '[1, 5, 10]'"
   ]
  },
  {
   "cell_type": "markdown",
   "id": "b41a9ede",
   "metadata": {
    "papermill": {
     "duration": 0.006949,
     "end_time": "2024-05-27T15:18:40.967467",
     "exception": false,
     "start_time": "2024-05-27T15:18:40.960518",
     "status": "completed"
    },
    "tags": []
   },
   "source": [
    "# **BPRMF**"
   ]
  },
  {
   "cell_type": "code",
   "execution_count": 7,
   "id": "1aa58081",
   "metadata": {
    "_kg_hide-output": true,
    "execution": {
     "iopub.execute_input": "2024-05-27T15:18:40.983486Z",
     "iopub.status.busy": "2024-05-27T15:18:40.983138Z",
     "iopub.status.idle": "2024-05-27T15:18:40.987453Z",
     "shell.execute_reply": "2024-05-27T15:18:40.986562Z"
    },
    "papermill": {
     "duration": 0.014817,
     "end_time": "2024-05-27T15:18:40.989425",
     "exception": false,
     "start_time": "2024-05-27T15:18:40.974608",
     "status": "completed"
    },
    "tags": []
   },
   "outputs": [],
   "source": [
    "# !python /kaggle/working/sample/KGAT-pytorch/main_bprmf.py --data_dir \"/kaggle/input/course-rec-data/mooccubex\" \\\n",
    "#                       --data_name train-running-data \\\n",
    "#                       --use_pretrain 0 \\\n",
    "#                       --n_epoch 300 --print_every 1000 --evaluate_every 10 --Ks '[1, 5, 10]'"
   ]
  },
  {
   "cell_type": "code",
   "execution_count": 8,
   "id": "3cf04a64",
   "metadata": {
    "execution": {
     "iopub.execute_input": "2024-05-27T15:18:41.005817Z",
     "iopub.status.busy": "2024-05-27T15:18:41.005167Z",
     "iopub.status.idle": "2024-05-27T15:21:02.462109Z",
     "shell.execute_reply": "2024-05-27T15:21:02.461086Z"
    },
    "papermill": {
     "duration": 141.467876,
     "end_time": "2024-05-27T15:21:02.464643",
     "exception": false,
     "start_time": "2024-05-27T15:18:40.996767",
     "status": "completed"
    },
    "tags": []
   },
   "outputs": [
    {
     "name": "stdout",
     "output_type": "stream",
     "text": [
      "Evaluating Iteration:   0%|                              | 0/10 [00:00<?, ?it/s]Hello\r\n",
      "Evaluating Iteration:  10%|██▏                   | 1/10 [00:13<02:00, 13.38s/it]Hello\r\n",
      "Evaluating Iteration:  20%|████▍                 | 2/10 [00:26<01:44, 13.11s/it]Hello\r\n",
      "Evaluating Iteration:  30%|██████▌               | 3/10 [00:39<01:31, 13.12s/it]Hello\r\n",
      "Evaluating Iteration:  40%|████████▊             | 4/10 [00:52<01:18, 13.05s/it]Hello\r\n",
      "Evaluating Iteration:  50%|███████████           | 5/10 [01:05<01:05, 13.06s/it]Hello\r\n",
      "Evaluating Iteration:  60%|█████████████▏        | 6/10 [01:18<00:52, 13.02s/it]Hello\r\n",
      "Evaluating Iteration:  70%|███████████████▍      | 7/10 [01:31<00:38, 12.98s/it]Hello\r\n",
      "Evaluating Iteration:  80%|█████████████████▌    | 8/10 [01:44<00:25, 12.99s/it]Hello\r\n",
      "Evaluating Iteration:  90%|███████████████████▊  | 9/10 [01:57<00:12, 12.94s/it]Hello\r\n",
      "Evaluating Iteration: 100%|█████████████████████| 10/10 [02:09<00:00, 12.99s/it]\r\n",
      "*** CF Evaluation @1 ***\r\n",
      "Precision@1   :  0.30919585\r\n",
      "Recall@1      :  0.30919585\r\n",
      "NDCG@1        :  0.30919585071372124\r\n",
      "*** CF Evaluation @5 ***\r\n",
      "Precision@5   :  0.11758446\r\n",
      "Recall@5      :  0.5879223\r\n",
      "NDCG@5        :  0.4554336659888468\r\n",
      "*** CF Evaluation @10 ***\r\n",
      "Precision@10   :  0.07184928\r\n",
      "Recall@10      :  0.71849275\r\n",
      "NDCG@10        :  0.49760154135440204\r\n"
     ]
    }
   ],
   "source": [
    "!python /kaggle/working/sample/KGAT-pytorch/predict_bprmf.py \\\n",
    "                        --data_dir \"/kaggle/input/course-rec-data/mooccubex\" \\\n",
    "                        --data_name test-running-data \\\n",
    "                        --use_pretrain 2 \\\n",
    "                        --pretrain_model_path /kaggle/input/bprmf_pretrained_ep40_rns/pytorch/addmf.npz/1/model_epoch40.pth \\\n",
    "                        --n_epoch 300 --print_every 1000 --evaluate_every 10 --Ks '[1, 5, 10]'"
   ]
  },
  {
   "cell_type": "markdown",
   "id": "4b7a4748",
   "metadata": {
    "papermill": {
     "duration": 0.009071,
     "end_time": "2024-05-27T15:21:02.482536",
     "exception": false,
     "start_time": "2024-05-27T15:21:02.473465",
     "status": "completed"
    },
    "tags": []
   },
   "source": [
    "# **FM**"
   ]
  },
  {
   "cell_type": "markdown",
   "id": "6406f695",
   "metadata": {
    "papermill": {
     "duration": 0.008355,
     "end_time": "2024-05-27T15:21:02.499416",
     "exception": false,
     "start_time": "2024-05-27T15:21:02.491061",
     "status": "completed"
    },
    "tags": []
   },
   "source": [
    "## **FM with user info**"
   ]
  },
  {
   "cell_type": "code",
   "execution_count": 9,
   "id": "aef52138",
   "metadata": {
    "collapsed": true,
    "execution": {
     "iopub.execute_input": "2024-05-27T15:21:02.518571Z",
     "iopub.status.busy": "2024-05-27T15:21:02.517777Z",
     "iopub.status.idle": "2024-05-27T15:21:02.522312Z",
     "shell.execute_reply": "2024-05-27T15:21:02.521577Z"
    },
    "jupyter": {
     "outputs_hidden": true
    },
    "papermill": {
     "duration": 0.016305,
     "end_time": "2024-05-27T15:21:02.524187",
     "exception": false,
     "start_time": "2024-05-27T15:21:02.507882",
     "status": "completed"
    },
    "tags": []
   },
   "outputs": [],
   "source": [
    "# !python /kaggle/working/sample/KGAT-pytorch/main_nfm.py --data_dir \"/kaggle/input/course-rec-data/mooccubex\" \\\n",
    "#                     --model_type fm \\\n",
    "#                     --data_name train-running-data \\\n",
    "#                     --use_pretrain 0 \\\n",
    "#                     --use_user_info 1\\\n",
    "#                     --train_batch_size 1024 \\\n",
    "#                     --test_batch_size 1024 \\\n",
    "#                     --test_cores 0 \\\n",
    "#                     --print_every 50 \\\n",
    "#                     --evaluate_every 5 \\\n",
    "#                     --Ks '[1, 5, 10]'"
   ]
  },
  {
   "cell_type": "code",
   "execution_count": 10,
   "id": "17355ebf",
   "metadata": {
    "execution": {
     "iopub.execute_input": "2024-05-27T15:21:02.542139Z",
     "iopub.status.busy": "2024-05-27T15:21:02.541826Z",
     "iopub.status.idle": "2024-05-27T15:21:02.545828Z",
     "shell.execute_reply": "2024-05-27T15:21:02.545022Z"
    },
    "papermill": {
     "duration": 0.015103,
     "end_time": "2024-05-27T15:21:02.547680",
     "exception": false,
     "start_time": "2024-05-27T15:21:02.532577",
     "status": "completed"
    },
    "tags": []
   },
   "outputs": [],
   "source": [
    "# !python /kaggle/working/sample/KGAT-pytorch/predict_nfm.py --data_dir \"/kaggle/input/course-rec-data/mooccubex\" \\\n",
    "#                     --model_type fm \\\n",
    "#                     --data_name test-running-data \\\n",
    "#                     --use_pretrain 2 \\\n",
    "#                     --use_user_info 1 \\\n",
    "#                     --pretrain_model_path /kaggle/input/courserec-machine-factorization-mooccubex/pytorch/with-user-info/1/model_with_user_info_epoch65.pth \\\n",
    "#                     --train_batch_size 1024 \\\n",
    "#                     --test_batch_size 1024 \\\n",
    "#                     --test_cores 0 \\\n",
    "#                     --print_every 50 \\\n",
    "#                     --evaluate_every 5 \\\n",
    "#                     --Ks '[1, 5, 10]'"
   ]
  },
  {
   "cell_type": "markdown",
   "id": "e9ecb213",
   "metadata": {
    "papermill": {
     "duration": 0.008356,
     "end_time": "2024-05-27T15:21:02.564535",
     "exception": false,
     "start_time": "2024-05-27T15:21:02.556179",
     "status": "completed"
    },
    "tags": []
   },
   "source": [
    "## **FM without user info**"
   ]
  },
  {
   "cell_type": "code",
   "execution_count": 11,
   "id": "1cc85ad8",
   "metadata": {
    "execution": {
     "iopub.execute_input": "2024-05-27T15:21:02.582820Z",
     "iopub.status.busy": "2024-05-27T15:21:02.582280Z",
     "iopub.status.idle": "2024-05-27T15:21:02.587017Z",
     "shell.execute_reply": "2024-05-27T15:21:02.586342Z"
    },
    "papermill": {
     "duration": 0.01583,
     "end_time": "2024-05-27T15:21:02.588936",
     "exception": false,
     "start_time": "2024-05-27T15:21:02.573106",
     "status": "completed"
    },
    "tags": []
   },
   "outputs": [],
   "source": [
    "# !python /kaggle/working/sample/KGAT-pytorch/main_nfm.py --data_dir \"/kaggle/input/course-rec-data/mooccubex\" \\\n",
    "#                     --model_type fm \\\n",
    "#                     --data_name train-running-data \\\n",
    "#                     --use_pretrain 0 \\\n",
    "#                     --use_user_info 0\\\n",
    "#                     --train_batch_size 1024 \\\n",
    "#                     --test_batch_size 1024 \\\n",
    "#                     --test_cores 0 \\\n",
    "#                     --print_every 50 \\\n",
    "#                     --evaluate_every 5 \\\n",
    "#                     --Ks '[1, 5, 10]'"
   ]
  },
  {
   "cell_type": "code",
   "execution_count": 12,
   "id": "b7977bfd",
   "metadata": {
    "execution": {
     "iopub.execute_input": "2024-05-27T15:21:02.607286Z",
     "iopub.status.busy": "2024-05-27T15:21:02.607048Z",
     "iopub.status.idle": "2024-05-27T15:21:02.610843Z",
     "shell.execute_reply": "2024-05-27T15:21:02.610096Z"
    },
    "papermill": {
     "duration": 0.015028,
     "end_time": "2024-05-27T15:21:02.612653",
     "exception": false,
     "start_time": "2024-05-27T15:21:02.597625",
     "status": "completed"
    },
    "tags": []
   },
   "outputs": [],
   "source": [
    "# !python /kaggle/working/sample/KGAT-pytorch/predict_nfm.py --data_dir \"/kaggle/input/course-rec-data/mooccubex\" \\\n",
    "#                     --model_type fm \\\n",
    "#                     --data_name test-running-data \\\n",
    "#                     --use_pretrain 2 \\\n",
    "#                     --use_user_info 0 \\\n",
    "#                     --pretrain_model_path /kaggle/input/courserec-machine-factorization-mooccubex/pytorch/without-user-info/1/model_without_user_info_epoch35.pth \\\n",
    "#                     --train_batch_size 1024 \\\n",
    "#                     --test_batch_size 1024 \\\n",
    "#                     --test_cores 0 \\\n",
    "#                     --print_every 50 \\\n",
    "#                     --evaluate_every 5 \\\n",
    "#                     --Ks '[1, 5, 10]'"
   ]
  },
  {
   "cell_type": "markdown",
   "id": "79655d34",
   "metadata": {
    "papermill": {
     "duration": 0.008403,
     "end_time": "2024-05-27T15:21:02.629577",
     "exception": false,
     "start_time": "2024-05-27T15:21:02.621174",
     "status": "completed"
    },
    "tags": []
   },
   "source": [
    "# **NFM**"
   ]
  },
  {
   "cell_type": "markdown",
   "id": "05e55850",
   "metadata": {
    "papermill": {
     "duration": 0.008272,
     "end_time": "2024-05-27T15:21:02.646254",
     "exception": false,
     "start_time": "2024-05-27T15:21:02.637982",
     "status": "completed"
    },
    "tags": []
   },
   "source": [
    "## **NFM with user info**"
   ]
  },
  {
   "cell_type": "code",
   "execution_count": 13,
   "id": "bc390e02",
   "metadata": {
    "execution": {
     "iopub.execute_input": "2024-05-27T15:21:02.664173Z",
     "iopub.status.busy": "2024-05-27T15:21:02.663911Z",
     "iopub.status.idle": "2024-05-27T17:17:31.222562Z",
     "shell.execute_reply": "2024-05-27T17:17:31.221304Z"
    },
    "papermill": {
     "duration": 6988.570904,
     "end_time": "2024-05-27T17:17:31.225666",
     "exception": false,
     "start_time": "2024-05-27T15:21:02.654762",
     "status": "completed"
    },
    "tags": []
   },
   "outputs": [
    {
     "name": "stdout",
     "output_type": "stream",
     "text": [
      "All logs will be saved to trained_model/NFM/train-running-data/nfm_embed-dim64_64-32-16_lr0.0001_pretrain0_user-info1/log0.log\r\n",
      "2024-05-27 15:21:06,302 - root - INFO - Namespace(seed=2019, model_type='nfm', data_name='train-running-data', data_dir='/kaggle/input/course-rec-data/mooccubex', use_user_info=1, use_pretrain=0, pretrain_embedding_dir='datasets/pretrain/', pretrain_model_path='trained_model/model.pth', embed_dim=64, hidden_dim_list='[64, 32, 16]', mess_dropout='[0.1, 0.1, 0.1]', l2loss_lambda=1e-05, train_batch_size=1024, test_batch_size=1024, test_cores=0, lr=0.0001, n_epoch=1000, stopping_steps=5, print_every=500, evaluate_every=5, Ks='[1, 5, 10]', save_dir='trained_model/NFM/train-running-data/nfm_embed-dim64_64-32-16_lr0.0001_pretrain0_user-info1/')\r\n",
      "2024-05-27 15:21:09,515 - root - INFO - n_users:              99969\r\n",
      "2024-05-27 15:21:09,515 - root - INFO - n_items:              2831\r\n",
      "2024-05-27 15:21:09,515 - root - INFO - n_entities:           10218\r\n",
      "2024-05-27 15:21:09,515 - root - INFO - n_user_attr:           99972\r\n",
      "2024-05-27 15:21:09,515 - root - INFO - n_users_entities:     110190\r\n",
      "2024-05-27 15:21:09,515 - root - INFO - n_cf_train:           1792212\r\n",
      "2024-05-27 15:21:09,515 - root - INFO - n_cf_test:            99969\r\n",
      "2024-05-27 15:21:09,515 - root - INFO - shape of user_matrix: (99969, 99972)\r\n",
      "2024-05-27 15:21:09,515 - root - INFO - shape of feat_matrix: (2831, 10218)\r\n",
      "2024-05-27 15:21:09,688 - root - INFO - NFM(\r\n",
      "  (linear): Linear(in_features=110190, out_features=1, bias=True)\r\n",
      "  (hidden_layers): ModuleList(\r\n",
      "    (0): HiddenLayer(\r\n",
      "      (linear): Linear(in_features=64, out_features=64, bias=True)\r\n",
      "      (activation): ReLU()\r\n",
      "      (message_dropout): Dropout(p=0.1, inplace=False)\r\n",
      "    )\r\n",
      "    (1): HiddenLayer(\r\n",
      "      (linear): Linear(in_features=64, out_features=32, bias=True)\r\n",
      "      (activation): ReLU()\r\n",
      "      (message_dropout): Dropout(p=0.1, inplace=False)\r\n",
      "    )\r\n",
      "    (2): HiddenLayer(\r\n",
      "      (linear): Linear(in_features=32, out_features=16, bias=True)\r\n",
      "      (activation): ReLU()\r\n",
      "      (message_dropout): Dropout(p=0.1, inplace=False)\r\n",
      "    )\r\n",
      "  )\r\n",
      "  (h): Linear(in_features=16, out_features=1, bias=False)\r\n",
      ")\r\n",
      "2024-05-27 15:21:10,871 - jax._src.path - DEBUG - etils.epath found. Using etils.epath for file I/O.\r\n",
      "/kaggle/working/sample/KGAT-pytorch/model/NFM.py:85: UserWarning: torch.sparse.SparseTensor(indices, values, shape, *, device=) is deprecated.  Please use torch.sparse_coo_tensor(indices, values, shape, dtype=, device=). (Triggered internally at /usr/local/src/pytorch/torch/csrc/utils/tensor_new.cpp:605.)\r\n",
      "  return torch.sparse.FloatTensor(i, v, torch.Size(shape))\r\n",
      "2024-05-27 15:21:41,395 - root - INFO - CF Training: Epoch 0001 Iter 0500 / 1751 | Time 0.1s | Iter Loss 0.4761 | Iter Mean Loss 0.5651\r\n",
      "2024-05-27 15:22:09,637 - root - INFO - CF Training: Epoch 0001 Iter 1000 / 1751 | Time 0.1s | Iter Loss 0.3424 | Iter Mean Loss 0.4707\r\n",
      "2024-05-27 15:22:37,901 - root - INFO - CF Training: Epoch 0001 Iter 1500 / 1751 | Time 0.1s | Iter Loss 0.3031 | Iter Mean Loss 0.4212\r\n",
      "2024-05-27 15:22:51,967 - root - INFO - CF Training: Epoch 0001 Total Iter 1751 | Total Time 100.0s | Iter Mean Loss 0.4055\r\n",
      "2024-05-27 15:23:20,210 - root - INFO - CF Training: Epoch 0002 Iter 0500 / 1751 | Time 0.1s | Iter Loss 0.2775 | Iter Mean Loss 0.3031\r\n",
      "2024-05-27 15:23:48,575 - root - INFO - CF Training: Epoch 0002 Iter 1000 / 1751 | Time 0.1s | Iter Loss 0.2673 | Iter Mean Loss 0.2992\r\n",
      "2024-05-27 15:24:16,889 - root - INFO - CF Training: Epoch 0002 Iter 1500 / 1751 | Time 0.1s | Iter Loss 0.2578 | Iter Mean Loss 0.2955\r\n",
      "2024-05-27 15:24:31,026 - root - INFO - CF Training: Epoch 0002 Total Iter 1751 | Total Time 99.1s | Iter Mean Loss 0.2937\r\n",
      "2024-05-27 15:24:59,289 - root - INFO - CF Training: Epoch 0003 Iter 0500 / 1751 | Time 0.1s | Iter Loss 0.2724 | Iter Mean Loss 0.2773\r\n",
      "2024-05-27 15:25:27,643 - root - INFO - CF Training: Epoch 0003 Iter 1000 / 1751 | Time 0.1s | Iter Loss 0.2379 | Iter Mean Loss 0.2741\r\n",
      "2024-05-27 15:25:55,867 - root - INFO - CF Training: Epoch 0003 Iter 1500 / 1751 | Time 0.1s | Iter Loss 0.2997 | Iter Mean Loss 0.2708\r\n",
      "2024-05-27 15:26:09,997 - root - INFO - CF Training: Epoch 0003 Total Iter 1751 | Total Time 99.0s | Iter Mean Loss 0.2696\r\n",
      "2024-05-27 15:26:38,425 - root - INFO - CF Training: Epoch 0004 Iter 0500 / 1751 | Time 0.1s | Iter Loss 0.2497 | Iter Mean Loss 0.2563\r\n",
      "2024-05-27 15:27:06,638 - root - INFO - CF Training: Epoch 0004 Iter 1000 / 1751 | Time 0.1s | Iter Loss 0.2296 | Iter Mean Loss 0.2531\r\n",
      "2024-05-27 15:27:34,939 - root - INFO - CF Training: Epoch 0004 Iter 1500 / 1751 | Time 0.1s | Iter Loss 0.2296 | Iter Mean Loss 0.2500\r\n",
      "2024-05-27 15:27:49,111 - root - INFO - CF Training: Epoch 0004 Total Iter 1751 | Total Time 99.1s | Iter Mean Loss 0.2484\r\n",
      "2024-05-27 15:28:17,485 - root - INFO - CF Training: Epoch 0005 Iter 0500 / 1751 | Time 0.1s | Iter Loss 0.2077 | Iter Mean Loss 0.2348\r\n",
      "2024-05-27 15:28:45,928 - root - INFO - CF Training: Epoch 0005 Iter 1000 / 1751 | Time 0.1s | Iter Loss 0.2293 | Iter Mean Loss 0.2323\r\n",
      "2024-05-27 15:29:13,783 - root - INFO - CF Training: Epoch 0005 Iter 1500 / 1751 | Time 0.1s | Iter Loss 0.2080 | Iter Mean Loss 0.2292\r\n",
      "2024-05-27 15:29:27,861 - root - INFO - CF Training: Epoch 0005 Total Iter 1751 | Total Time 98.7s | Iter Mean Loss 0.2278\r\n",
      "EVALUATING...\r\n",
      "Evaluating Iteration: 100%|█████████████████████| 98/98 [06:55<00:00,  4.24s/it]\r\n",
      "Hello\r\n",
      "2024-05-27 15:40:17,788 - root - INFO - CF Evaluation: Epoch 0005 | Total Time 649.9s | Precision [0.2437, 0.0745], Recall [0.2437, 0.7445], NDCG [0.2437, 0.4574]\r\n",
      "2024-05-27 15:40:17,827 - root - INFO - Save model on epoch 0005!\r\n",
      "2024-05-27 15:40:45,791 - root - INFO - CF Training: Epoch 0006 Iter 0500 / 1751 | Time 0.1s | Iter Loss 0.1962 | Iter Mean Loss 0.2136\r\n",
      "2024-05-27 15:41:13,537 - root - INFO - CF Training: Epoch 0006 Iter 1000 / 1751 | Time 0.1s | Iter Loss 0.2047 | Iter Mean Loss 0.2103\r\n",
      "2024-05-27 15:41:41,774 - root - INFO - CF Training: Epoch 0006 Iter 1500 / 1751 | Time 0.1s | Iter Loss 0.1933 | Iter Mean Loss 0.2066\r\n",
      "2024-05-27 15:41:55,808 - root - INFO - CF Training: Epoch 0006 Total Iter 1751 | Total Time 98.0s | Iter Mean Loss 0.2048\r\n",
      "2024-05-27 15:42:24,064 - root - INFO - CF Training: Epoch 0007 Iter 0500 / 1751 | Time 0.1s | Iter Loss 0.1777 | Iter Mean Loss 0.1878\r\n",
      "2024-05-27 15:42:52,446 - root - INFO - CF Training: Epoch 0007 Iter 1000 / 1751 | Time 0.1s | Iter Loss 0.1565 | Iter Mean Loss 0.1837\r\n",
      "2024-05-27 15:43:20,832 - root - INFO - CF Training: Epoch 0007 Iter 1500 / 1751 | Time 0.1s | Iter Loss 0.1821 | Iter Mean Loss 0.1797\r\n",
      "2024-05-27 15:43:35,190 - root - INFO - CF Training: Epoch 0007 Total Iter 1751 | Total Time 99.4s | Iter Mean Loss 0.1774\r\n",
      "2024-05-27 15:44:03,547 - root - INFO - CF Training: Epoch 0008 Iter 0500 / 1751 | Time 0.1s | Iter Loss 0.1722 | Iter Mean Loss 0.1594\r\n",
      "2024-05-27 15:44:31,893 - root - INFO - CF Training: Epoch 0008 Iter 1000 / 1751 | Time 0.1s | Iter Loss 0.1551 | Iter Mean Loss 0.1563\r\n",
      "2024-05-27 15:45:00,219 - root - INFO - CF Training: Epoch 0008 Iter 1500 / 1751 | Time 0.1s | Iter Loss 0.1396 | Iter Mean Loss 0.1531\r\n",
      "2024-05-27 15:45:14,441 - root - INFO - CF Training: Epoch 0008 Total Iter 1751 | Total Time 99.3s | Iter Mean Loss 0.1513\r\n",
      "2024-05-27 15:45:42,889 - root - INFO - CF Training: Epoch 0009 Iter 0500 / 1751 | Time 0.1s | Iter Loss 0.1375 | Iter Mean Loss 0.1354\r\n",
      "2024-05-27 15:46:11,217 - root - INFO - CF Training: Epoch 0009 Iter 1000 / 1751 | Time 0.1s | Iter Loss 0.1293 | Iter Mean Loss 0.1326\r\n",
      "2024-05-27 15:46:39,565 - root - INFO - CF Training: Epoch 0009 Iter 1500 / 1751 | Time 0.1s | Iter Loss 0.1024 | Iter Mean Loss 0.1295\r\n",
      "2024-05-27 15:46:53,775 - root - INFO - CF Training: Epoch 0009 Total Iter 1751 | Total Time 99.3s | Iter Mean Loss 0.1282\r\n",
      "2024-05-27 15:47:22,201 - root - INFO - CF Training: Epoch 0010 Iter 0500 / 1751 | Time 0.1s | Iter Loss 0.1100 | Iter Mean Loss 0.1154\r\n",
      "2024-05-27 15:47:50,578 - root - INFO - CF Training: Epoch 0010 Iter 1000 / 1751 | Time 0.1s | Iter Loss 0.1230 | Iter Mean Loss 0.1139\r\n",
      "2024-05-27 15:48:19,005 - root - INFO - CF Training: Epoch 0010 Iter 1500 / 1751 | Time 0.1s | Iter Loss 0.0946 | Iter Mean Loss 0.1117\r\n",
      "2024-05-27 15:48:33,528 - root - INFO - CF Training: Epoch 0010 Total Iter 1751 | Total Time 99.8s | Iter Mean Loss 0.1110\r\n",
      "EVALUATING...\r\n",
      "Evaluating Iteration: 100%|█████████████████████| 98/98 [06:59<00:00,  4.28s/it]\r\n",
      "Hello\r\n",
      "2024-05-27 15:59:25,145 - root - INFO - CF Evaluation: Epoch 0010 | Total Time 651.6s | Precision [0.3012, 0.0656], Recall [0.3012, 0.6561], NDCG [0.3012, 0.4665]\r\n",
      "2024-05-27 15:59:52,918 - root - INFO - CF Training: Epoch 0011 Iter 0500 / 1751 | Time 0.1s | Iter Loss 0.1093 | Iter Mean Loss 0.1032\r\n",
      "2024-05-27 16:00:20,623 - root - INFO - CF Training: Epoch 0011 Iter 1000 / 1751 | Time 0.1s | Iter Loss 0.1089 | Iter Mean Loss 0.1025\r\n",
      "2024-05-27 16:00:48,463 - root - INFO - CF Training: Epoch 0011 Iter 1500 / 1751 | Time 0.1s | Iter Loss 0.1029 | Iter Mean Loss 0.1010\r\n",
      "2024-05-27 16:01:02,654 - root - INFO - CF Training: Epoch 0011 Total Iter 1751 | Total Time 97.5s | Iter Mean Loss 0.1005\r\n",
      "2024-05-27 16:01:30,480 - root - INFO - CF Training: Epoch 0012 Iter 0500 / 1751 | Time 0.1s | Iter Loss 0.0797 | Iter Mean Loss 0.0946\r\n",
      "2024-05-27 16:01:58,119 - root - INFO - CF Training: Epoch 0012 Iter 1000 / 1751 | Time 0.1s | Iter Loss 0.0766 | Iter Mean Loss 0.0942\r\n",
      "2024-05-27 16:02:26,055 - root - INFO - CF Training: Epoch 0012 Iter 1500 / 1751 | Time 0.1s | Iter Loss 0.0910 | Iter Mean Loss 0.0932\r\n",
      "2024-05-27 16:02:40,037 - root - INFO - CF Training: Epoch 0012 Total Iter 1751 | Total Time 97.4s | Iter Mean Loss 0.0927\r\n",
      "2024-05-27 16:03:07,804 - root - INFO - CF Training: Epoch 0013 Iter 0500 / 1751 | Time 0.1s | Iter Loss 0.0774 | Iter Mean Loss 0.0890\r\n",
      "2024-05-27 16:03:36,900 - root - INFO - CF Training: Epoch 0013 Iter 1000 / 1751 | Time 0.1s | Iter Loss 0.0768 | Iter Mean Loss 0.0882\r\n",
      "2024-05-27 16:04:06,966 - root - INFO - CF Training: Epoch 0013 Iter 1500 / 1751 | Time 0.1s | Iter Loss 0.0810 | Iter Mean Loss 0.0872\r\n",
      "2024-05-27 16:04:21,803 - root - INFO - CF Training: Epoch 0013 Total Iter 1751 | Total Time 101.8s | Iter Mean Loss 0.0867\r\n",
      "2024-05-27 16:04:51,138 - root - INFO - CF Training: Epoch 0014 Iter 0500 / 1751 | Time 0.1s | Iter Loss 0.0839 | Iter Mean Loss 0.0840\r\n",
      "2024-05-27 16:05:20,419 - root - INFO - CF Training: Epoch 0014 Iter 1000 / 1751 | Time 0.1s | Iter Loss 0.0823 | Iter Mean Loss 0.0833\r\n",
      "2024-05-27 16:05:50,042 - root - INFO - CF Training: Epoch 0014 Iter 1500 / 1751 | Time 0.1s | Iter Loss 0.0868 | Iter Mean Loss 0.0826\r\n",
      "2024-05-27 16:06:04,914 - root - INFO - CF Training: Epoch 0014 Total Iter 1751 | Total Time 103.1s | Iter Mean Loss 0.0823\r\n",
      "2024-05-27 16:06:35,093 - root - INFO - CF Training: Epoch 0015 Iter 0500 / 1751 | Time 0.1s | Iter Loss 0.0940 | Iter Mean Loss 0.0791\r\n",
      "2024-05-27 16:07:04,616 - root - INFO - CF Training: Epoch 0015 Iter 1000 / 1751 | Time 0.1s | Iter Loss 0.0794 | Iter Mean Loss 0.0782\r\n",
      "2024-05-27 16:07:34,112 - root - INFO - CF Training: Epoch 0015 Iter 1500 / 1751 | Time 0.1s | Iter Loss 0.0723 | Iter Mean Loss 0.0775\r\n",
      "2024-05-27 16:07:49,162 - root - INFO - CF Training: Epoch 0015 Total Iter 1751 | Total Time 104.2s | Iter Mean Loss 0.0775\r\n",
      "EVALUATING...\r\n",
      "Evaluating Iteration: 100%|█████████████████████| 98/98 [06:51<00:00,  4.20s/it]\r\n",
      "Hello\r\n",
      "2024-05-27 16:18:45,019 - root - INFO - CF Evaluation: Epoch 0015 | Total Time 655.9s | Precision [0.2978, 0.0653], Recall [0.2978, 0.6531], NDCG [0.2978, 0.4607]\r\n",
      "2024-05-27 16:19:14,738 - root - INFO - CF Training: Epoch 0016 Iter 0500 / 1751 | Time 0.1s | Iter Loss 0.0988 | Iter Mean Loss 0.0765\r\n",
      "2024-05-27 16:19:44,093 - root - INFO - CF Training: Epoch 0016 Iter 1000 / 1751 | Time 0.1s | Iter Loss 0.0841 | Iter Mean Loss 0.0756\r\n",
      "2024-05-27 16:20:13,490 - root - INFO - CF Training: Epoch 0016 Iter 1500 / 1751 | Time 0.1s | Iter Loss 0.0716 | Iter Mean Loss 0.0751\r\n",
      "2024-05-27 16:20:28,271 - root - INFO - CF Training: Epoch 0016 Total Iter 1751 | Total Time 103.3s | Iter Mean Loss 0.0748\r\n",
      "2024-05-27 16:20:57,503 - root - INFO - CF Training: Epoch 0017 Iter 0500 / 1751 | Time 0.1s | Iter Loss 0.0884 | Iter Mean Loss 0.0721\r\n",
      "2024-05-27 16:21:26,734 - root - INFO - CF Training: Epoch 0017 Iter 1000 / 1751 | Time 0.1s | Iter Loss 0.0733 | Iter Mean Loss 0.0717\r\n",
      "2024-05-27 16:21:55,944 - root - INFO - CF Training: Epoch 0017 Iter 1500 / 1751 | Time 0.1s | Iter Loss 0.0698 | Iter Mean Loss 0.0711\r\n",
      "2024-05-27 16:22:10,565 - root - INFO - CF Training: Epoch 0017 Total Iter 1751 | Total Time 102.3s | Iter Mean Loss 0.0709\r\n",
      "2024-05-27 16:22:39,851 - root - INFO - CF Training: Epoch 0018 Iter 0500 / 1751 | Time 0.1s | Iter Loss 0.0715 | Iter Mean Loss 0.0691\r\n",
      "2024-05-27 16:23:09,015 - root - INFO - CF Training: Epoch 0018 Iter 1000 / 1751 | Time 0.1s | Iter Loss 0.0627 | Iter Mean Loss 0.0692\r\n",
      "2024-05-27 16:23:38,111 - root - INFO - CF Training: Epoch 0018 Iter 1500 / 1751 | Time 0.1s | Iter Loss 0.0450 | Iter Mean Loss 0.0691\r\n",
      "2024-05-27 16:23:52,659 - root - INFO - CF Training: Epoch 0018 Total Iter 1751 | Total Time 102.1s | Iter Mean Loss 0.0687\r\n",
      "2024-05-27 16:24:21,769 - root - INFO - CF Training: Epoch 0019 Iter 0500 / 1751 | Time 0.1s | Iter Loss 0.0688 | Iter Mean Loss 0.0671\r\n",
      "2024-05-27 16:24:50,922 - root - INFO - CF Training: Epoch 0019 Iter 1000 / 1751 | Time 0.1s | Iter Loss 0.0639 | Iter Mean Loss 0.0665\r\n",
      "2024-05-27 16:25:20,247 - root - INFO - CF Training: Epoch 0019 Iter 1500 / 1751 | Time 0.1s | Iter Loss 0.0643 | Iter Mean Loss 0.0664\r\n",
      "2024-05-27 16:25:34,914 - root - INFO - CF Training: Epoch 0019 Total Iter 1751 | Total Time 102.3s | Iter Mean Loss 0.0663\r\n",
      "2024-05-27 16:26:04,075 - root - INFO - CF Training: Epoch 0020 Iter 0500 / 1751 | Time 0.1s | Iter Loss 0.0694 | Iter Mean Loss 0.0647\r\n",
      "2024-05-27 16:26:33,152 - root - INFO - CF Training: Epoch 0020 Iter 1000 / 1751 | Time 0.1s | Iter Loss 0.0743 | Iter Mean Loss 0.0645\r\n",
      "2024-05-27 16:27:02,289 - root - INFO - CF Training: Epoch 0020 Iter 1500 / 1751 | Time 0.1s | Iter Loss 0.0559 | Iter Mean Loss 0.0643\r\n",
      "2024-05-27 16:27:16,985 - root - INFO - CF Training: Epoch 0020 Total Iter 1751 | Total Time 102.1s | Iter Mean Loss 0.0642\r\n",
      "EVALUATING...\r\n",
      "Evaluating Iteration: 100%|█████████████████████| 98/98 [06:49<00:00,  4.18s/it]\r\n",
      "Hello\r\n",
      "2024-05-27 16:38:08,844 - root - INFO - CF Evaluation: Epoch 0020 | Total Time 651.9s | Precision [0.2961, 0.0645], Recall [0.2961, 0.6448], NDCG [0.2961, 0.4552]\r\n",
      "2024-05-27 16:38:38,896 - root - INFO - CF Training: Epoch 0021 Iter 0500 / 1751 | Time 0.1s | Iter Loss 0.0821 | Iter Mean Loss 0.0626\r\n",
      "2024-05-27 16:39:08,981 - root - INFO - CF Training: Epoch 0021 Iter 1000 / 1751 | Time 0.1s | Iter Loss 0.0635 | Iter Mean Loss 0.0628\r\n",
      "2024-05-27 16:39:39,005 - root - INFO - CF Training: Epoch 0021 Iter 1500 / 1751 | Time 0.1s | Iter Loss 0.0587 | Iter Mean Loss 0.0627\r\n",
      "2024-05-27 16:39:54,095 - root - INFO - CF Training: Epoch 0021 Total Iter 1751 | Total Time 105.2s | Iter Mean Loss 0.0626\r\n",
      "2024-05-27 16:40:24,154 - root - INFO - CF Training: Epoch 0022 Iter 0500 / 1751 | Time 0.1s | Iter Loss 0.0617 | Iter Mean Loss 0.0616\r\n",
      "2024-05-27 16:40:54,135 - root - INFO - CF Training: Epoch 0022 Iter 1000 / 1751 | Time 0.1s | Iter Loss 0.0493 | Iter Mean Loss 0.0617\r\n",
      "2024-05-27 16:41:24,046 - root - INFO - CF Training: Epoch 0022 Iter 1500 / 1751 | Time 0.1s | Iter Loss 0.0709 | Iter Mean Loss 0.0610\r\n",
      "2024-05-27 16:41:39,028 - root - INFO - CF Training: Epoch 0022 Total Iter 1751 | Total Time 104.9s | Iter Mean Loss 0.0609\r\n",
      "2024-05-27 16:42:08,905 - root - INFO - CF Training: Epoch 0023 Iter 0500 / 1751 | Time 0.1s | Iter Loss 0.0680 | Iter Mean Loss 0.0596\r\n",
      "2024-05-27 16:42:39,003 - root - INFO - CF Training: Epoch 0023 Iter 1000 / 1751 | Time 0.1s | Iter Loss 0.0535 | Iter Mean Loss 0.0596\r\n",
      "2024-05-27 16:43:09,112 - root - INFO - CF Training: Epoch 0023 Iter 1500 / 1751 | Time 0.1s | Iter Loss 0.1050 | Iter Mean Loss 0.0625\r\n",
      "2024-05-27 16:43:24,303 - root - INFO - CF Training: Epoch 0023 Total Iter 1751 | Total Time 105.3s | Iter Mean Loss 0.0645\r\n",
      "2024-05-27 16:43:54,259 - root - INFO - CF Training: Epoch 0024 Iter 0500 / 1751 | Time 0.1s | Iter Loss 0.0443 | Iter Mean Loss 0.0693\r\n",
      "2024-05-27 16:44:24,393 - root - INFO - CF Training: Epoch 0024 Iter 1000 / 1751 | Time 0.1s | Iter Loss 0.0788 | Iter Mean Loss 0.0636\r\n",
      "2024-05-27 16:44:54,540 - root - INFO - CF Training: Epoch 0024 Iter 1500 / 1751 | Time 0.1s | Iter Loss 0.0561 | Iter Mean Loss 0.0616\r\n",
      "2024-05-27 16:45:09,708 - root - INFO - CF Training: Epoch 0024 Total Iter 1751 | Total Time 105.4s | Iter Mean Loss 0.0610\r\n",
      "2024-05-27 16:45:39,966 - root - INFO - CF Training: Epoch 0025 Iter 0500 / 1751 | Time 0.1s | Iter Loss 0.0591 | Iter Mean Loss 0.0567\r\n",
      "2024-05-27 16:46:10,457 - root - INFO - CF Training: Epoch 0025 Iter 1000 / 1751 | Time 0.1s | Iter Loss 0.0447 | Iter Mean Loss 0.0568\r\n",
      "2024-05-27 16:46:41,013 - root - INFO - CF Training: Epoch 0025 Iter 1500 / 1751 | Time 0.1s | Iter Loss 0.0569 | Iter Mean Loss 0.0564\r\n",
      "2024-05-27 16:46:56,522 - root - INFO - CF Training: Epoch 0025 Total Iter 1751 | Total Time 106.8s | Iter Mean Loss 0.0563\r\n",
      "EVALUATING...\r\n",
      "Evaluating Iteration: 100%|█████████████████████| 98/98 [06:53<00:00,  4.22s/it]\r\n",
      "Hello\r\n",
      "2024-05-27 16:57:49,098 - root - INFO - CF Evaluation: Epoch 0025 | Total Time 652.6s | Precision [0.2869, 0.0631], Recall [0.2869, 0.6314], NDCG [0.2869, 0.4443]\r\n",
      "2024-05-27 16:58:18,858 - root - INFO - CF Training: Epoch 0026 Iter 0500 / 1751 | Time 0.1s | Iter Loss 0.0555 | Iter Mean Loss 0.0554\r\n",
      "2024-05-27 16:58:48,666 - root - INFO - CF Training: Epoch 0026 Iter 1000 / 1751 | Time 0.1s | Iter Loss 0.0686 | Iter Mean Loss 0.0557\r\n",
      "2024-05-27 16:59:18,730 - root - INFO - CF Training: Epoch 0026 Iter 1500 / 1751 | Time 0.1s | Iter Loss 0.0555 | Iter Mean Loss 0.0556\r\n",
      "2024-05-27 16:59:33,831 - root - INFO - CF Training: Epoch 0026 Total Iter 1751 | Total Time 104.7s | Iter Mean Loss 0.0555\r\n",
      "2024-05-27 17:00:03,931 - root - INFO - CF Training: Epoch 0027 Iter 0500 / 1751 | Time 0.1s | Iter Loss 0.0503 | Iter Mean Loss 0.0545\r\n",
      "2024-05-27 17:00:34,174 - root - INFO - CF Training: Epoch 0027 Iter 1000 / 1751 | Time 0.1s | Iter Loss 0.0558 | Iter Mean Loss 0.0544\r\n",
      "2024-05-27 17:01:04,317 - root - INFO - CF Training: Epoch 0027 Iter 1500 / 1751 | Time 0.1s | Iter Loss 0.0515 | Iter Mean Loss 0.0543\r\n",
      "2024-05-27 17:01:19,455 - root - INFO - CF Training: Epoch 0027 Total Iter 1751 | Total Time 105.6s | Iter Mean Loss 0.0541\r\n",
      "2024-05-27 17:01:49,714 - root - INFO - CF Training: Epoch 0028 Iter 0500 / 1751 | Time 0.1s | Iter Loss 0.0422 | Iter Mean Loss 0.0537\r\n",
      "2024-05-27 17:02:19,859 - root - INFO - CF Training: Epoch 0028 Iter 1000 / 1751 | Time 0.1s | Iter Loss 0.0480 | Iter Mean Loss 0.0535\r\n",
      "2024-05-27 17:02:50,080 - root - INFO - CF Training: Epoch 0028 Iter 1500 / 1751 | Time 0.1s | Iter Loss 0.0531 | Iter Mean Loss 0.0533\r\n",
      "2024-05-27 17:03:05,213 - root - INFO - CF Training: Epoch 0028 Total Iter 1751 | Total Time 105.8s | Iter Mean Loss 0.0532\r\n",
      "2024-05-27 17:03:35,492 - root - INFO - CF Training: Epoch 0029 Iter 0500 / 1751 | Time 0.1s | Iter Loss 0.0577 | Iter Mean Loss 0.0526\r\n",
      "2024-05-27 17:04:05,791 - root - INFO - CF Training: Epoch 0029 Iter 1000 / 1751 | Time 0.1s | Iter Loss 0.0417 | Iter Mean Loss 0.0523\r\n",
      "2024-05-27 17:04:36,010 - root - INFO - CF Training: Epoch 0029 Iter 1500 / 1751 | Time 0.1s | Iter Loss 0.0631 | Iter Mean Loss 0.0521\r\n",
      "2024-05-27 17:04:51,279 - root - INFO - CF Training: Epoch 0029 Total Iter 1751 | Total Time 106.1s | Iter Mean Loss 0.0522\r\n",
      "2024-05-27 17:05:21,441 - root - INFO - CF Training: Epoch 0030 Iter 0500 / 1751 | Time 0.1s | Iter Loss 0.0636 | Iter Mean Loss 0.0521\r\n",
      "2024-05-27 17:05:51,719 - root - INFO - CF Training: Epoch 0030 Iter 1000 / 1751 | Time 0.1s | Iter Loss 0.0608 | Iter Mean Loss 0.0519\r\n",
      "2024-05-27 17:06:21,962 - root - INFO - CF Training: Epoch 0030 Iter 1500 / 1751 | Time 0.1s | Iter Loss 0.0559 | Iter Mean Loss 0.0518\r\n",
      "2024-05-27 17:06:37,149 - root - INFO - CF Training: Epoch 0030 Total Iter 1751 | Total Time 105.9s | Iter Mean Loss 0.0516\r\n",
      "EVALUATING...\r\n",
      "Evaluating Iteration: 100%|█████████████████████| 98/98 [06:50<00:00,  4.19s/it]\r\n",
      "Hello\r\n",
      "2024-05-27 17:17:29,962 - root - INFO - CF Evaluation: Epoch 0030 | Total Time 652.8s | Precision [0.2845, 0.0620], Recall [0.2845, 0.6199], NDCG [0.2845, 0.4408]\r\n",
      "2024-05-27 17:17:29,972 - root - INFO - Best CF Evaluation: Epoch 0005 | Precision [0.2437, 0.0745], Recall [0.2437, 0.7445], NDCG [0.2437, 0.4574]\r\n"
     ]
    }
   ],
   "source": [
    "!python /kaggle/working/sample/KGAT-pytorch/main_nfm.py --data_dir \"/kaggle/input/course-rec-data/mooccubex\" \\\n",
    "                    --model_type nfm \\\n",
    "                    --data_name train-running-data \\\n",
    "                    --use_pretrain 0 \\\n",
    "                    --use_user_info 1\\\n",
    "                    --train_batch_size 1024 \\\n",
    "                    --test_batch_size 1024 \\\n",
    "                    --test_cores 0 \\\n",
    "                    --print_every 500 \\\n",
    "                    --stopping_steps 5 \\\n",
    "                    --evaluate_every 5 \\\n",
    "                    --Ks '[1, 5, 10]'"
   ]
  },
  {
   "cell_type": "code",
   "execution_count": 14,
   "id": "ed82a7cc",
   "metadata": {
    "execution": {
     "iopub.execute_input": "2024-05-27T17:17:31.363663Z",
     "iopub.status.busy": "2024-05-27T17:17:31.363256Z",
     "iopub.status.idle": "2024-05-27T17:17:31.368357Z",
     "shell.execute_reply": "2024-05-27T17:17:31.367457Z"
    },
    "papermill": {
     "duration": 0.076767,
     "end_time": "2024-05-27T17:17:31.370419",
     "exception": false,
     "start_time": "2024-05-27T17:17:31.293652",
     "status": "completed"
    },
    "tags": []
   },
   "outputs": [],
   "source": [
    "# !python /kaggle/working/sample/KGAT-pytorch/predict_nfm.py --data_dir \"/kaggle/input/course-rec-data/mooccubex\" \\\n",
    "#                     --model_type nfm \\\n",
    "#                     --data_name test-running-data \\\n",
    "#                     --use_pretrain 2 \\\n",
    "#                     --use_user_info 1 \\\n",
    "#                     --pretrain_model_path /kaggle/input/courserec-nfm-mooccubex/pytorch/with-user-info/1/nfm_user_info_epoch10.pth \\\n",
    "#                     --train_batch_size 1024 \\\n",
    "#                     --test_batch_size 1024 \\\n",
    "#                     --test_cores 0 \\\n",
    "#                     --print_every 50 \\\n",
    "#                     --evaluate_every 5 \\\n",
    "#                     --Ks '[1, 5, 10]'"
   ]
  },
  {
   "cell_type": "markdown",
   "id": "724692c5",
   "metadata": {
    "papermill": {
     "duration": 0.066518,
     "end_time": "2024-05-27T17:17:31.505698",
     "exception": false,
     "start_time": "2024-05-27T17:17:31.439180",
     "status": "completed"
    },
    "tags": []
   },
   "source": [
    "## **NFM without user info**"
   ]
  },
  {
   "cell_type": "code",
   "execution_count": 15,
   "id": "9c4e2f42",
   "metadata": {
    "execution": {
     "iopub.execute_input": "2024-05-27T17:17:31.640402Z",
     "iopub.status.busy": "2024-05-27T17:17:31.640047Z",
     "iopub.status.idle": "2024-05-27T17:17:31.644390Z",
     "shell.execute_reply": "2024-05-27T17:17:31.643484Z"
    },
    "papermill": {
     "duration": 0.07418,
     "end_time": "2024-05-27T17:17:31.646627",
     "exception": false,
     "start_time": "2024-05-27T17:17:31.572447",
     "status": "completed"
    },
    "tags": []
   },
   "outputs": [],
   "source": [
    "# !python /kaggle/working/sample/KGAT-pytorch/main_nfm.py --data_dir \"/kaggle/input/course-rec-data/mooccubex\" \\\n",
    "#                     --model_type nfm \\\n",
    "#                     --data_name train-running-data \\\n",
    "#                     --use_pretrain 0 \\\n",
    "#                     --use_user_info 0\\\n",
    "#                     --train_batch_size 1024 \\\n",
    "#                     --test_batch_size 1024 \\\n",
    "#                     --test_cores 0 \\\n",
    "#                     --print_every 50 \\\n",
    "#                     --stopping_steps 5 \\\n",
    "#                     --evaluate_every 5 \\\n",
    "#                     --Ks '[1, 5, 10]'"
   ]
  },
  {
   "cell_type": "code",
   "execution_count": 16,
   "id": "ff106e69",
   "metadata": {
    "execution": {
     "iopub.execute_input": "2024-05-27T17:17:31.784407Z",
     "iopub.status.busy": "2024-05-27T17:17:31.784051Z",
     "iopub.status.idle": "2024-05-27T17:17:31.788778Z",
     "shell.execute_reply": "2024-05-27T17:17:31.787801Z"
    },
    "papermill": {
     "duration": 0.076761,
     "end_time": "2024-05-27T17:17:31.790930",
     "exception": false,
     "start_time": "2024-05-27T17:17:31.714169",
     "status": "completed"
    },
    "tags": []
   },
   "outputs": [],
   "source": [
    "# !python /kaggle/working/sample/KGAT-pytorch/predict_nfm.py --data_dir \"/kaggle/input/course-rec-data/mooccubex\" \\\n",
    "#                     --model_type nfm \\\n",
    "#                     --data_name test-running-data \\\n",
    "#                     --use_pretrain 2 \\\n",
    "#                     --use_user_info 0 \\\n",
    "#                     --pretrain_model_path /kaggle/input/courserec-nfm-mooccubex/pytorch/without-user-info/1/nfm_no_user_info_epoch35.pth \\\n",
    "#                     --train_batch_size 1024 \\\n",
    "#                     --test_batch_size 1024 \\\n",
    "#                     --test_cores 0 \\\n",
    "#                     --print_every 50 \\\n",
    "#                     --evaluate_every 5 \\\n",
    "#                     --Ks '[1, 5, 10]'"
   ]
  }
 ],
 "metadata": {
  "kaggle": {
   "accelerator": "gpu",
   "dataSources": [
    {
     "datasetId": 5041168,
     "sourceId": 8457822,
     "sourceType": "datasetVersion"
    },
    {
     "modelInstanceId": 27326,
     "sourceId": 32640,
     "sourceType": "modelInstanceVersion"
    },
    {
     "modelInstanceId": 27343,
     "sourceId": 32665,
     "sourceType": "modelInstanceVersion"
    },
    {
     "modelInstanceId": 43773,
     "sourceId": 52067,
     "sourceType": "modelInstanceVersion"
    },
    {
     "modelInstanceId": 43774,
     "sourceId": 52068,
     "sourceType": "modelInstanceVersion"
    },
    {
     "modelInstanceId": 44027,
     "sourceId": 52397,
     "sourceType": "modelInstanceVersion"
    },
    {
     "modelInstanceId": 44028,
     "sourceId": 52399,
     "sourceType": "modelInstanceVersion"
    }
   ],
   "dockerImageVersionId": 30699,
   "isGpuEnabled": true,
   "isInternetEnabled": true,
   "language": "python",
   "sourceType": "notebook"
  },
  "kernelspec": {
   "display_name": "Python 3",
   "language": "python",
   "name": "python3"
  },
  "language_info": {
   "codemirror_mode": {
    "name": "ipython",
    "version": 3
   },
   "file_extension": ".py",
   "mimetype": "text/x-python",
   "name": "python",
   "nbconvert_exporter": "python",
   "pygments_lexer": "ipython3",
   "version": "3.10.13"
  },
  "papermill": {
   "default_parameters": {},
   "duration": 7150.054709,
   "end_time": "2024-05-27T17:17:32.190732",
   "environment_variables": {},
   "exception": null,
   "input_path": "__notebook__.ipynb",
   "output_path": "__notebook__.ipynb",
   "parameters": {},
   "start_time": "2024-05-27T15:18:22.136023",
   "version": "2.5.0"
  }
 },
 "nbformat": 4,
 "nbformat_minor": 5
}
